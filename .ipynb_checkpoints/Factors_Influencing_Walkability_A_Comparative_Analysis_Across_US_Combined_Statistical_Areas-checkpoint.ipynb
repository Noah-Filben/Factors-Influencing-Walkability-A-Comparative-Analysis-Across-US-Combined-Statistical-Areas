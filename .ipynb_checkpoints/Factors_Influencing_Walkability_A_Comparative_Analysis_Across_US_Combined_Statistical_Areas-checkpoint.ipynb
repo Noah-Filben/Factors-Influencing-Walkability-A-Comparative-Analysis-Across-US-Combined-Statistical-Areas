{
 "cells": [
  {
   "cell_type": "code",
   "execution_count": 1,
   "id": "27307e4a-cc3e-4255-9a1f-dd30e84887ff",
   "metadata": {},
   "outputs": [],
   "source": [
    "import fiona\n",
    "import geopandas as gpd\n",
    "import pandas as pd\n",
    "import warnings\n",
    "import matplotlib.pyplot as plt\n",
    "import seaborn as sns\n",
    "import requests\n",
    "import numpy as np"
   ]
  },
  {
   "cell_type": "code",
   "execution_count": 2,
   "id": "ebf7925e-e7a9-4343-b6d4-8de3a49ef9fe",
   "metadata": {},
   "outputs": [],
   "source": [
    "pd.set_option('display.max_columns', None)  "
   ]
  },
  {
   "cell_type": "markdown",
   "id": "cc58c946-6775-442b-bf9a-30da08dcc1d5",
   "metadata": {},
   "source": [
    "# Data from 2021"
   ]
  },
  {
   "cell_type": "code",
   "execution_count": 4,
   "id": "1b057cdf-e45c-4a3e-b5f4-37de546af757",
   "metadata": {},
   "outputs": [],
   "source": [
    "gdf = gpd.read_file('../data/Natl_WI.gdb', layer='NationalWalkabilityIndex')"
   ]
  },
  {
   "cell_type": "code",
   "execution_count": 5,
   "id": "40d37277-c4bd-480a-9cc8-5ca9502956dc",
   "metadata": {},
   "outputs": [],
   "source": [
    "warnings.filterwarnings('ignore', message='A value is trying to be set on a copy of a slice from a DataFrame')"
   ]
  },
  {
   "cell_type": "code",
   "execution_count": 6,
   "id": "4a2a89ae-4f42-49bd-aecc-60e50fa4cc11",
   "metadata": {},
   "outputs": [
    {
     "data": {
      "text/html": [
       "<div>\n",
       "<style scoped>\n",
       "    .dataframe tbody tr th:only-of-type {\n",
       "        vertical-align: middle;\n",
       "    }\n",
       "\n",
       "    .dataframe tbody tr th {\n",
       "        vertical-align: top;\n",
       "    }\n",
       "\n",
       "    .dataframe thead th {\n",
       "        text-align: right;\n",
       "    }\n",
       "</style>\n",
       "<table border=\"1\" class=\"dataframe\">\n",
       "  <thead>\n",
       "    <tr style=\"text-align: right;\">\n",
       "      <th></th>\n",
       "      <th>GEOID10</th>\n",
       "      <th>GEOID20</th>\n",
       "      <th>STATEFP</th>\n",
       "      <th>COUNTYFP</th>\n",
       "      <th>TRACTCE</th>\n",
       "      <th>BLKGRPCE</th>\n",
       "      <th>CSA</th>\n",
       "      <th>CSA_Name</th>\n",
       "      <th>CBSA</th>\n",
       "      <th>CBSA_Name</th>\n",
       "      <th>Ac_Total</th>\n",
       "      <th>Ac_Water</th>\n",
       "      <th>Ac_Land</th>\n",
       "      <th>Ac_Unpr</th>\n",
       "      <th>TotPop</th>\n",
       "      <th>CountHU</th>\n",
       "      <th>HH</th>\n",
       "      <th>Workers</th>\n",
       "      <th>D2B_E8MIXA</th>\n",
       "      <th>D2A_EPHHM</th>\n",
       "      <th>D3B</th>\n",
       "      <th>D4A</th>\n",
       "      <th>D2A_Ranked</th>\n",
       "      <th>D2B_Ranked</th>\n",
       "      <th>D3B_Ranked</th>\n",
       "      <th>D4A_Ranked</th>\n",
       "      <th>NatWalkInd</th>\n",
       "      <th>Shape_Length</th>\n",
       "      <th>Shape_Area</th>\n",
       "      <th>geometry</th>\n",
       "    </tr>\n",
       "  </thead>\n",
       "  <tbody>\n",
       "    <tr>\n",
       "      <th>0</th>\n",
       "      <td>481130078254</td>\n",
       "      <td>481130078254</td>\n",
       "      <td>48</td>\n",
       "      <td>113</td>\n",
       "      <td>007825</td>\n",
       "      <td>4</td>\n",
       "      <td>206</td>\n",
       "      <td>Dallas-Fort Worth, TX-OK</td>\n",
       "      <td>19100</td>\n",
       "      <td>Dallas-Fort Worth-Arlington, TX</td>\n",
       "      <td>73.595028</td>\n",
       "      <td>0.0</td>\n",
       "      <td>73.595028</td>\n",
       "      <td>73.595028</td>\n",
       "      <td>1202</td>\n",
       "      <td>460.0</td>\n",
       "      <td>423.0</td>\n",
       "      <td>412</td>\n",
       "      <td>0.662091</td>\n",
       "      <td>0.348912</td>\n",
       "      <td>115.981747</td>\n",
       "      <td>362.10</td>\n",
       "      <td>6.0</td>\n",
       "      <td>14.0</td>\n",
       "      <td>15.0</td>\n",
       "      <td>17.0</td>\n",
       "      <td>14.000000</td>\n",
       "      <td>3110.360820</td>\n",
       "      <td>297836.083090</td>\n",
       "      <td>MULTIPOLYGON (((-68983.316 1091325.734, -68981...</td>\n",
       "    </tr>\n",
       "    <tr>\n",
       "      <th>1</th>\n",
       "      <td>481130078252</td>\n",
       "      <td>481130078252</td>\n",
       "      <td>48</td>\n",
       "      <td>113</td>\n",
       "      <td>007825</td>\n",
       "      <td>2</td>\n",
       "      <td>206</td>\n",
       "      <td>Dallas-Fort Worth, TX-OK</td>\n",
       "      <td>19100</td>\n",
       "      <td>Dallas-Fort Worth-Arlington, TX</td>\n",
       "      <td>119.829909</td>\n",
       "      <td>0.0</td>\n",
       "      <td>119.829909</td>\n",
       "      <td>119.214200</td>\n",
       "      <td>710</td>\n",
       "      <td>409.0</td>\n",
       "      <td>409.0</td>\n",
       "      <td>395</td>\n",
       "      <td>0.554458</td>\n",
       "      <td>0.197047</td>\n",
       "      <td>80.145600</td>\n",
       "      <td>718.84</td>\n",
       "      <td>3.0</td>\n",
       "      <td>10.0</td>\n",
       "      <td>12.0</td>\n",
       "      <td>14.0</td>\n",
       "      <td>10.833333</td>\n",
       "      <td>3519.469110</td>\n",
       "      <td>484945.146563</td>\n",
       "      <td>MULTIPOLYGON (((-68891.713 1090955.557, -68860...</td>\n",
       "    </tr>\n",
       "    <tr>\n",
       "      <th>2</th>\n",
       "      <td>481130078253</td>\n",
       "      <td>481130078253</td>\n",
       "      <td>48</td>\n",
       "      <td>113</td>\n",
       "      <td>007825</td>\n",
       "      <td>3</td>\n",
       "      <td>206</td>\n",
       "      <td>Dallas-Fort Worth, TX-OK</td>\n",
       "      <td>19100</td>\n",
       "      <td>Dallas-Fort Worth-Arlington, TX</td>\n",
       "      <td>26.367053</td>\n",
       "      <td>0.0</td>\n",
       "      <td>26.367053</td>\n",
       "      <td>26.367050</td>\n",
       "      <td>737</td>\n",
       "      <td>365.0</td>\n",
       "      <td>329.0</td>\n",
       "      <td>463</td>\n",
       "      <td>-0.000000</td>\n",
       "      <td>0.000000</td>\n",
       "      <td>24.272717</td>\n",
       "      <td>398.31</td>\n",
       "      <td>1.0</td>\n",
       "      <td>1.0</td>\n",
       "      <td>7.0</td>\n",
       "      <td>17.0</td>\n",
       "      <td>8.333333</td>\n",
       "      <td>1697.091802</td>\n",
       "      <td>106705.928129</td>\n",
       "      <td>MULTIPOLYGON (((-68078.320 1091181.799, -68077...</td>\n",
       "    </tr>\n",
       "    <tr>\n",
       "      <th>3</th>\n",
       "      <td>481130078241</td>\n",
       "      <td>481130078241</td>\n",
       "      <td>48</td>\n",
       "      <td>113</td>\n",
       "      <td>007824</td>\n",
       "      <td>1</td>\n",
       "      <td>206</td>\n",
       "      <td>Dallas-Fort Worth, TX-OK</td>\n",
       "      <td>19100</td>\n",
       "      <td>Dallas-Fort Worth-Arlington, TX</td>\n",
       "      <td>119.060687</td>\n",
       "      <td>0.0</td>\n",
       "      <td>119.060687</td>\n",
       "      <td>119.060687</td>\n",
       "      <td>904</td>\n",
       "      <td>384.0</td>\n",
       "      <td>384.0</td>\n",
       "      <td>431</td>\n",
       "      <td>0.553831</td>\n",
       "      <td>0.682830</td>\n",
       "      <td>141.604424</td>\n",
       "      <td>386.24</td>\n",
       "      <td>16.0</td>\n",
       "      <td>10.0</td>\n",
       "      <td>17.0</td>\n",
       "      <td>17.0</td>\n",
       "      <td>15.666667</td>\n",
       "      <td>2922.609204</td>\n",
       "      <td>481828.430336</td>\n",
       "      <td>MULTIPOLYGON (((-68978.261 1090638.770, -68976...</td>\n",
       "    </tr>\n",
       "    <tr>\n",
       "      <th>4</th>\n",
       "      <td>481130078242</td>\n",
       "      <td>481130078242</td>\n",
       "      <td>48</td>\n",
       "      <td>113</td>\n",
       "      <td>007824</td>\n",
       "      <td>2</td>\n",
       "      <td>206</td>\n",
       "      <td>Dallas-Fort Worth, TX-OK</td>\n",
       "      <td>19100</td>\n",
       "      <td>Dallas-Fort Worth-Arlington, TX</td>\n",
       "      <td>169.927211</td>\n",
       "      <td>0.0</td>\n",
       "      <td>169.927211</td>\n",
       "      <td>148.742920</td>\n",
       "      <td>948</td>\n",
       "      <td>343.0</td>\n",
       "      <td>343.0</td>\n",
       "      <td>579</td>\n",
       "      <td>0.459064</td>\n",
       "      <td>0.261472</td>\n",
       "      <td>65.307963</td>\n",
       "      <td>638.37</td>\n",
       "      <td>4.0</td>\n",
       "      <td>7.0</td>\n",
       "      <td>11.0</td>\n",
       "      <td>14.0</td>\n",
       "      <td>10.166667</td>\n",
       "      <td>3731.971773</td>\n",
       "      <td>687684.775181</td>\n",
       "      <td>MULTIPOLYGON (((-68980.363 1090202.600, -68965...</td>\n",
       "    </tr>\n",
       "  </tbody>\n",
       "</table>\n",
       "</div>"
      ],
      "text/plain": [
       "        GEOID10       GEOID20 STATEFP COUNTYFP TRACTCE BLKGRPCE  CSA  \\\n",
       "0  481130078254  481130078254      48      113  007825        4  206   \n",
       "1  481130078252  481130078252      48      113  007825        2  206   \n",
       "2  481130078253  481130078253      48      113  007825        3  206   \n",
       "3  481130078241  481130078241      48      113  007824        1  206   \n",
       "4  481130078242  481130078242      48      113  007824        2  206   \n",
       "\n",
       "                   CSA_Name   CBSA                        CBSA_Name  \\\n",
       "0  Dallas-Fort Worth, TX-OK  19100  Dallas-Fort Worth-Arlington, TX   \n",
       "1  Dallas-Fort Worth, TX-OK  19100  Dallas-Fort Worth-Arlington, TX   \n",
       "2  Dallas-Fort Worth, TX-OK  19100  Dallas-Fort Worth-Arlington, TX   \n",
       "3  Dallas-Fort Worth, TX-OK  19100  Dallas-Fort Worth-Arlington, TX   \n",
       "4  Dallas-Fort Worth, TX-OK  19100  Dallas-Fort Worth-Arlington, TX   \n",
       "\n",
       "     Ac_Total  Ac_Water     Ac_Land     Ac_Unpr  TotPop  CountHU     HH  \\\n",
       "0   73.595028       0.0   73.595028   73.595028    1202    460.0  423.0   \n",
       "1  119.829909       0.0  119.829909  119.214200     710    409.0  409.0   \n",
       "2   26.367053       0.0   26.367053   26.367050     737    365.0  329.0   \n",
       "3  119.060687       0.0  119.060687  119.060687     904    384.0  384.0   \n",
       "4  169.927211       0.0  169.927211  148.742920     948    343.0  343.0   \n",
       "\n",
       "   Workers  D2B_E8MIXA  D2A_EPHHM         D3B     D4A  D2A_Ranked  D2B_Ranked  \\\n",
       "0      412    0.662091   0.348912  115.981747  362.10         6.0        14.0   \n",
       "1      395    0.554458   0.197047   80.145600  718.84         3.0        10.0   \n",
       "2      463   -0.000000   0.000000   24.272717  398.31         1.0         1.0   \n",
       "3      431    0.553831   0.682830  141.604424  386.24        16.0        10.0   \n",
       "4      579    0.459064   0.261472   65.307963  638.37         4.0         7.0   \n",
       "\n",
       "   D3B_Ranked  D4A_Ranked  NatWalkInd  Shape_Length     Shape_Area  \\\n",
       "0        15.0        17.0   14.000000   3110.360820  297836.083090   \n",
       "1        12.0        14.0   10.833333   3519.469110  484945.146563   \n",
       "2         7.0        17.0    8.333333   1697.091802  106705.928129   \n",
       "3        17.0        17.0   15.666667   2922.609204  481828.430336   \n",
       "4        11.0        14.0   10.166667   3731.971773  687684.775181   \n",
       "\n",
       "                                            geometry  \n",
       "0  MULTIPOLYGON (((-68983.316 1091325.734, -68981...  \n",
       "1  MULTIPOLYGON (((-68891.713 1090955.557, -68860...  \n",
       "2  MULTIPOLYGON (((-68078.320 1091181.799, -68077...  \n",
       "3  MULTIPOLYGON (((-68978.261 1090638.770, -68976...  \n",
       "4  MULTIPOLYGON (((-68980.363 1090202.600, -68965...  "
      ]
     },
     "execution_count": 6,
     "metadata": {},
     "output_type": "execute_result"
    }
   ],
   "source": [
    "gdf.head()"
   ]
  },
  {
   "cell_type": "markdown",
   "id": "d60a02c5-d21a-4566-a5c7-0557899ddf12",
   "metadata": {},
   "source": [
    "# Bringing in Data Profiles from Census"
   ]
  },
  {
   "cell_type": "code",
   "execution_count": 8,
   "id": "4bc643a4-d447-4f4d-9cab-fbb085913581",
   "metadata": {},
   "outputs": [],
   "source": [
    "dp02 = pd.read_csv('../data/dp02_final_real.csv')"
   ]
  },
  {
   "cell_type": "code",
   "execution_count": 9,
   "id": "8f4a4603-621e-49db-a193-d4f77efe9cda",
   "metadata": {},
   "outputs": [],
   "source": [
    "dp03 = pd.read_csv('../data/dp03_final_real.csv')"
   ]
  },
  {
   "cell_type": "code",
   "execution_count": 10,
   "id": "a09b37e0-b323-49a6-90ac-e9969187ba52",
   "metadata": {},
   "outputs": [],
   "source": [
    "dp04 = pd.read_csv('../data/dp04_final_real.csv')"
   ]
  },
  {
   "cell_type": "code",
   "execution_count": 11,
   "id": "0cade19f-0ef4-4fce-b636-8d92b3778243",
   "metadata": {},
   "outputs": [],
   "source": [
    "dp05 = pd.read_csv('../data/dp05_final.csv')"
   ]
  },
  {
   "cell_type": "code",
   "execution_count": 12,
   "id": "b94bc367-ab7b-4652-96a7-b8986f013917",
   "metadata": {},
   "outputs": [],
   "source": [
    "dp0203 = dp02.merge(dp03, on='csa_name', how='inner')"
   ]
  },
  {
   "cell_type": "code",
   "execution_count": 13,
   "id": "7ab083c6-1a5c-42eb-932a-867f006dbf67",
   "metadata": {},
   "outputs": [],
   "source": [
    "dp020304 = dp0203.merge(dp04, on='csa_name', how='inner')"
   ]
  },
  {
   "cell_type": "code",
   "execution_count": 14,
   "id": "13470635-14ec-452c-9527-a390eca1ebdf",
   "metadata": {},
   "outputs": [],
   "source": [
    "dps = dp020304.merge(dp05, on='csa_name', how='inner')"
   ]
  },
  {
   "cell_type": "code",
   "execution_count": 15,
   "id": "aa3ba93b-23d9-4b86-bf00-529f5eebfb5b",
   "metadata": {},
   "outputs": [],
   "source": [
    "dps = dps.rename(columns={'Median (dollars)':'Median_Home_Value', 'Median (dollars).1':'Median_Rent', 'Car, truck, or van -- drove alone %': 'Car_Drove_To_Work'})"
   ]
  },
  {
   "cell_type": "code",
   "execution_count": 16,
   "id": "99e3745a-f55f-4211-a8cb-4104b87c2563",
   "metadata": {},
   "outputs": [],
   "source": [
    "dps = dps.dropna(subset=['csa_name'])"
   ]
  },
  {
   "cell_type": "code",
   "execution_count": 17,
   "id": "bb7b5734-053f-4835-816d-953b473f1d35",
   "metadata": {},
   "outputs": [],
   "source": [
    "dps.columns = dps.columns.str.lower()"
   ]
  },
  {
   "cell_type": "markdown",
   "id": "bb7757ca-5045-4e18-a7e5-4ac7cc7aa62e",
   "metadata": {},
   "source": [
    "# Bringing in NAICS data"
   ]
  },
  {
   "cell_type": "code",
   "execution_count": 19,
   "id": "708259dc-9844-4b7c-8a0d-e23b6e0fa032",
   "metadata": {},
   "outputs": [
    {
     "name": "stderr",
     "output_type": "stream",
     "text": [
      "C:\\Users\\noahf\\AppData\\Local\\Temp\\ipykernel_21572\\2716533220.py:1: DtypeWarning: Columns (0,1,2,3,4,5) have mixed types. Specify dtype option on import or set low_memory=False.\n",
      "  business = pd.read_csv('../data/businesses_final.csv')\n"
     ]
    }
   ],
   "source": [
    "business = pd.read_csv('../data/businesses_final.csv')"
   ]
  },
  {
   "cell_type": "code",
   "execution_count": 20,
   "id": "3f25241d-c2a7-4504-ae6f-a9cd395fccce",
   "metadata": {},
   "outputs": [],
   "source": [
    "business = business.dropna(subset=['Geographic Area Name'])"
   ]
  },
  {
   "cell_type": "code",
   "execution_count": 21,
   "id": "54f29327-ca4a-477c-a214-7525cb03c1cc",
   "metadata": {},
   "outputs": [],
   "source": [
    "csa_rename_map = {\n",
    "    'Asheville-Brevard, NC CSA': 'Asheville-Marion-Brevard, NC',\n",
    "    'Atlanta--Athens-Clarke County--Sandy Springs, GA CSA': 'Atlanta--Athens-Clarke County--Sandy Springs, GA-AL',\n",
    "    'Bend-Redmond-Prineville, OR CSA': 'Bend-Prineville, OR',\n",
    "    'Boise City-Mountain Home-Ontario, ID-OR CSA': 'Boise City-Mountain Home-Ontario, ID-OR',\n",
    "    'Boston-Worcester-Providence, MA-RI-NH-CT CSA': 'Boston-Worcester-Providence, MA-RI-NH-CT',\n",
    "    'Cape Coral-Fort Myers-Naples, FL CSA': 'Cape Coral-Fort Myers-Naples, FL',\n",
    "    'Cleveland-Akron-Canton, OH CSA': 'Cleveland-Akron-Canton, OH',\n",
    "    'Columbia-Orangeburg-Newberry, SC CSA': 'Columbia-Orangeburg-Newberry, SC',\n",
    "    'Dayton-Springfield-Sidney, OH CSA': 'Dayton-Springfield-Kettering, OH',\n",
    "    'Detroit-Warren-Ann Arbor, MI CSA': 'Detroit-Warren-Ann Arbor, MI',\n",
    "    'Fargo-Wahpeton, ND-MN CSA': 'Fargo-Wahpeton, ND-MN',\n",
    "    'Grand Rapids-Wyoming-Muskegon, MI CSA': 'Grand Rapids-Kentwood-Muskegon, MI',\n",
    "    'Harrisburg-York-Lebanon, PA CSA': 'Harrisburg-York-Lebanon, PA',\n",
    "    'Harrisonburg-Staunton-Waynesboro, VA CSA': 'Harrisonburg-Staunton, VA',\n",
    "    'Hartford-West Hartford, CT CSA': 'Hartford-East Hartford, CT',\n",
    "    'Jackson-Vicksburg-Brookhaven, MS CSA': 'Jackson-Vicksburg-Brookhaven, MS',\n",
    "    'Johnson City-Kingsport-Bristol, TN-VA CSA': 'Johnson City-Kingsport-Bristol, TN-VA',\n",
    "    'Lexington-Fayette--Richmond--Frankfort, KY CSA': 'Lexington-Fayette--Richmond--Frankfort, KY',\n",
    "    'Lincoln-Beatrice, NE CSA': 'Lincoln-Beatrice, NE',\n",
    "    'Memphis-Forrest City, TN-MS-AR CSA': 'Memphis-Forrest City, TN-MS-AR',\n",
    "    'Myrtle Beach-Conway, SC-NC CSA': 'Myrtle Beach-Conway, SC-NC',\n",
    "    'Philadelphia-Reading-Camden, PA-NJ-DE-MD CSA': 'Philadelphia-Reading-Camden, PA-NJ-DE-MD',\n",
    "    'Pittsburgh-New Castle-Weirton, PA-OH-WV CSA': 'Pittsburgh-New Castle-Weirton, PA-OH-WV',\n",
    "    'Portland-Vancouver-Salem, OR-WA CSA': 'Portland-Vancouver-Salem, OR-WA',\n",
    "    'Pueblo-Cañon City, CO CSA': 'Pueblo-Cañon City, CO',\n",
    "    'Rochester-Austin, MN CSA': 'Rochester-Austin, MN',\n",
    "    'Rockford-Freeport-Rochelle, IL CSA': 'Rockford-Freeport-Rochelle, IL',\n",
    "    'San Jose-San Francisco-Oakland, CA CSA': 'San Jose-San Francisco-Oakland, CA',\n",
    "    \"Spokane-Spokane Valley-Coeur d'Alene, WA-ID CSA\": \"Spokane-Spokane Valley-Coeur d'Alene, WA-ID\"\n",
    "}"
   ]
  },
  {
   "cell_type": "code",
   "execution_count": 22,
   "id": "56c12dce-0594-4713-851d-5cf1d2ff3a01",
   "metadata": {},
   "outputs": [],
   "source": [
    "business[\"Geographic Area Name\"] = business[\"Geographic Area Name\"].replace(csa_rename_map)"
   ]
  },
  {
   "cell_type": "code",
   "execution_count": 23,
   "id": "4244abd9-c658-4dee-8c4d-68de8ddac800",
   "metadata": {},
   "outputs": [],
   "source": [
    "business = business.rename(columns={'Geographic Area Name':'csa_name'})"
   ]
  },
  {
   "cell_type": "code",
   "execution_count": 24,
   "id": "157aa8e5-8a55-4580-ba15-76091e994ca9",
   "metadata": {},
   "outputs": [],
   "source": [
    "business[\"Number of establishments\"] = pd.to_numeric(\n",
    "    business[\"Number of establishments\"].str.replace(\",\", \"\"), errors=\"coerce\"\n",
    ")\n",
    "\n",
    "business[\"Sales, value of shipments, or revenue ($1,000)\"] = pd.to_numeric(\n",
    "    business[\"Sales, value of shipments, or revenue ($1,000)\"].str.replace(\",\", \"\"), errors=\"coerce\"\n",
    ")"
   ]
  },
  {
   "cell_type": "code",
   "execution_count": 25,
   "id": "bcd0ea04-1048-46cf-bc85-1f12a9dad60a",
   "metadata": {},
   "outputs": [],
   "source": [
    "group_business = business.groupby(\n",
    "    [\"csa_name\", \"2017 NAICS code\", \"Meaning of NAICS code\"], \n",
    "    as_index=False\n",
    ").agg({\n",
    "    \"Number of establishments\": \"sum\",\n",
    "    \"Sales, value of shipments, or revenue ($1,000)\": \"sum\"\n",
    "})"
   ]
  },
  {
   "cell_type": "code",
   "execution_count": 26,
   "id": "c34b682c-07d3-4891-b221-728b01e42637",
   "metadata": {},
   "outputs": [],
   "source": [
    "group_business = group_business.rename(columns={'Number of establishments':'num_establishments', 'Sales, value of shipments, or revenue ($1,000)':'revenue',\n",
    "                              'Meaning of NAICS code':'sector'})"
   ]
  },
  {
   "cell_type": "code",
   "execution_count": 27,
   "id": "a42a1922-5b8b-4394-b5dd-37fb80dfa701",
   "metadata": {},
   "outputs": [],
   "source": [
    "group_business = group_business[['csa_name', 'sector', 'num_establishments','revenue']]"
   ]
  },
  {
   "cell_type": "code",
   "execution_count": 28,
   "id": "ed632e80-15d0-40ae-84ed-3e529f8facea",
   "metadata": {},
   "outputs": [],
   "source": [
    "group_business[\"revenue_in_dollars\"] = group_business[\"revenue\"] * 1000"
   ]
  },
  {
   "cell_type": "code",
   "execution_count": 29,
   "id": "ae622ddb-806c-457f-9a74-eaff8afac08f",
   "metadata": {},
   "outputs": [],
   "source": [
    "group_business[\"revenue_per_establishment\"] = (\n",
    "    group_business[\"revenue_in_dollars\"] / \n",
    "    group_business[\"num_establishments\"]\n",
    ")"
   ]
  },
  {
   "cell_type": "code",
   "execution_count": 30,
   "id": "7be4653b-fbe5-4bbf-82d6-f0d3034c9f9c",
   "metadata": {},
   "outputs": [],
   "source": [
    "group_business[\"revenue_per_establishment\"] = group_business[\"revenue_per_establishment\"].round(2)\n",
    "pd.options.display.float_format = '{:,.2f}'.format"
   ]
  },
  {
   "cell_type": "code",
   "execution_count": 31,
   "id": "527dae14-d953-4128-b51d-e7697b6d5776",
   "metadata": {},
   "outputs": [],
   "source": [
    "#Fully cleaned post aggregation. revenue_per_establishment is made by taking revenue multiplying by 1000\n",
    "#And then dividing that number by the number of businesses in that sector\n",
    "group_business = group_business[['csa_name', 'sector', 'revenue_per_establishment','num_establishments']]"
   ]
  },
  {
   "cell_type": "markdown",
   "id": "fc62e224-ec92-40be-869d-bc7cb89c15ed",
   "metadata": {},
   "source": [
    "# Cleaning walkability data"
   ]
  },
  {
   "cell_type": "code",
   "execution_count": 33,
   "id": "853ac257-1cda-4000-af8b-02c870e3363a",
   "metadata": {},
   "outputs": [],
   "source": [
    "gdf.columns = gdf.columns.str.lower()"
   ]
  },
  {
   "cell_type": "code",
   "execution_count": 34,
   "id": "57f9f91e-c1a0-47d3-90b5-c945a845257c",
   "metadata": {},
   "outputs": [],
   "source": [
    "gdf = gdf.rename(columns = {'geoid20': 'cbg_fips', 'statefp':'state_fips', 'countyfp':'county_fips', \n",
    "                      'ac_land': 'total_land_acres', 'ac_unpr': 'unprotected_land_acres', \n",
    "                      'd4a':'distance_from_transit_stop', 'natwalkind':'walk_score'})"
   ]
  },
  {
   "cell_type": "code",
   "execution_count": 35,
   "id": "9b6bfc22-448e-4531-a5c5-97424712c735",
   "metadata": {},
   "outputs": [],
   "source": [
    "#noticed there's -99999 for distance to transit. These are placeholder values for no data available.. getting rid of them to perform avgs\n",
    "gdf = gdf[gdf['distance_from_transit_stop'] != -99999.00]"
   ]
  },
  {
   "cell_type": "markdown",
   "id": "c3c13356-7835-4905-850d-daa986820583",
   "metadata": {},
   "source": [
    "### Adding: cbsa_total_pop, cbsa_avg_walk_score, cbsa_pop_density, avg_dist_to_transit, avg_worker_density"
   ]
  },
  {
   "cell_type": "code",
   "execution_count": 37,
   "id": "c6da3926-3904-4569-bb4c-b6c53476e2fa",
   "metadata": {},
   "outputs": [],
   "source": [
    "#Calculating total population of each CBSA\n",
    "#Found .transform that allows for aggregation to be indexed\n",
    "gdf['csa_pop'] = gdf.groupby('csa')['totpop'].transform('sum')"
   ]
  },
  {
   "cell_type": "code",
   "execution_count": 38,
   "id": "1a6ad927-c44e-4f4a-a623-3943de7fe43d",
   "metadata": {},
   "outputs": [],
   "source": [
    "#Calculating avg_walk_score for each cbsa\n",
    "gdf['csa_avg_walk_score'] = gdf.groupby('csa')['walk_score'].transform('mean')"
   ]
  },
  {
   "cell_type": "code",
   "execution_count": 39,
   "id": "c62655db-b2f4-4fd7-89ca-d63b434381d0",
   "metadata": {},
   "outputs": [],
   "source": [
    "#Calculting avg distance to transit for each cbsa\n",
    "gdf['avg_dist_to_transit'] = gdf.groupby('csa')['distance_from_transit_stop'].transform('mean')"
   ]
  },
  {
   "cell_type": "code",
   "execution_count": 40,
   "id": "67664f24-1643-4698-9e5c-ef23686f70db",
   "metadata": {},
   "outputs": [],
   "source": [
    "#Calculating total land acres for each cbsa\n",
    "gdf['csa_total_land_acres'] = gdf.groupby('csa')['total_land_acres'].transform('sum')"
   ]
  },
  {
   "cell_type": "code",
   "execution_count": 41,
   "id": "0eec8db5-69dc-4fb9-aa2b-ac81f8c4487b",
   "metadata": {},
   "outputs": [],
   "source": [
    "#Calculating total workers for each cbsa\n",
    "gdf['csa_total_workers'] = gdf.groupby('csa')['workers'].transform('sum')"
   ]
  },
  {
   "cell_type": "code",
   "execution_count": 42,
   "id": "8dd2d254-dbd2-4aed-8e62-04aa1efc545e",
   "metadata": {},
   "outputs": [],
   "source": [
    "#Calculating Population density. Converting acres to sq mile to make more of a compelling measurement\n",
    "gdf['pop_density_sq_mile'] = gdf['csa_pop'] / (gdf['csa_total_land_acres'] / 640)"
   ]
  },
  {
   "cell_type": "code",
   "execution_count": 43,
   "id": "e9ef782d-ec8f-455d-bf20-defd8799ad9b",
   "metadata": {},
   "outputs": [],
   "source": [
    "#Calculating Worker density. Also by Sq Mile\n",
    "gdf['worker_density_sq_mile'] = gdf['csa_total_workers'] / (gdf['csa_total_land_acres'] / 640)"
   ]
  },
  {
   "cell_type": "code",
   "execution_count": 44,
   "id": "758fb2e6-11f0-404d-ad1e-ea8893301f1d",
   "metadata": {},
   "outputs": [],
   "source": [
    "# Interested in seeing the distribution with small, medium, and large cities \n",
    "# Originally Calculated using 25th percentile, median, and 75th percentile\n",
    "# That resulted in only getting 3 for nlargest for 'Large' cities so I tweaked it to catch more\n",
    "def classify_csa_size(pop):\n",
    "    if pop < 175000:\n",
    "        return \"Small\"\n",
    "    elif pop <= 500000:\n",
    "        return \"Medium\"\n",
    "    else:\n",
    "        return \"Large\"\n",
    "\n",
    "gdf[\"csa_size\"] = gdf[\"csa_pop\"].apply(classify_csa_size)"
   ]
  },
  {
   "cell_type": "code",
   "execution_count": 45,
   "id": "7a3a4e28-c544-4338-af35-88068c398940",
   "metadata": {},
   "outputs": [],
   "source": [
    "walkability = gdf[['cbg_fips', 'state_fips', 'county_fips', 'blkgrpce', 'csa',\n",
    "       'csa_name', 'csa_avg_walk_score', 'csa_pop','csa_size', 'csa_total_land_acres', 'csa_total_workers', 'worker_density_sq_mile', \n",
    "       'pop_density_sq_mile', 'total_land_acres', 'unprotected_land_acres', 'totpop',\n",
    "       'counthu', 'hh', 'workers', 'd3b', 'distance_from_transit_stop', 'avg_dist_to_transit', 'walk_score', 'geometry']]"
   ]
  },
  {
   "cell_type": "code",
   "execution_count": 46,
   "id": "ee7d0d4b-eb84-4eb4-a528-3a009bdc7961",
   "metadata": {},
   "outputs": [],
   "source": [
    "walkability = gdf[['csa_name', 'csa_pop', 'csa_avg_walk_score', 'csa_size', 'pop_density_sq_mile', 'worker_density_sq_mile', 'avg_dist_to_transit', 'geometry']]"
   ]
  },
  {
   "cell_type": "code",
   "execution_count": 47,
   "id": "ab334ea6-fc4b-46bf-af67-5dc83b2f8d83",
   "metadata": {},
   "outputs": [],
   "source": [
    "unique_csa = walkability.drop_duplicates('csa_name')"
   ]
  },
  {
   "cell_type": "code",
   "execution_count": 48,
   "id": "932253be-3243-4491-91bd-e7b608487a8b",
   "metadata": {},
   "outputs": [
    {
     "data": {
      "text/plain": [
       "csa_size\n",
       "Large     44\n",
       "Small     35\n",
       "Medium    31\n",
       "Name: count, dtype: int64"
      ]
     },
     "execution_count": 48,
     "metadata": {},
     "output_type": "execute_result"
    }
   ],
   "source": [
    "#Probably show a breakdown of this in tableau or power bi to support \n",
    "unique_csa['csa_size'].value_counts()"
   ]
  },
  {
   "cell_type": "code",
   "execution_count": 49,
   "id": "2294cb3b-17c3-4ecc-87c0-430a2bd721b8",
   "metadata": {},
   "outputs": [],
   "source": [
    "the30 = unique_csa[unique_csa['csa_name'].isin(['Rockford-Freeport-Rochelle, IL','Jackson-Vicksburg-Brookhaven, MS', 'Johnson City-Kingsport-Bristol, TN-VA',\n",
    "                                        'Myrtle Beach-Conway, SC-NC', 'Rochester-Austin, MN', 'Cape Coral-Fort Myers-Naples, FL', 'Lexington-Fayette--Richmond--Frankfort, KY',\n",
    "                                        'Grand Rapids-Kentwood-Muskegon, MI', 'Columbia-Orangeburg-Newberry, SC', 'Dayton-Springfield-Kettering, OH', 'Memphis-Forrest City, TN-MS-AR',\n",
    "                                        'Detroit-Warren-Ann Arbor, MI', 'Atlanta--Athens-Clarke County--Sandy Springs, GA-AL', 'Hartford-East Hartford, CT', 'Cleveland-Akron-Canton, OH',\n",
    "                                        'Pueblo-Cañon City, CO', 'Bend-Prineville, OR', 'Harrisonburg-Staunton, VA', 'Asheville-Marion-Brevard, NC', 'Burlington-Fort Madison-Keokuk, IA-IL-MO',\n",
    "                                        'Harrisburg-York-Lebanon, PA', 'Boise City-Mountain Home-Ontario, ID-OR', 'Lincoln-Beatrice, NE', \"Spokane-Spokane Valley-Coeur d'Alene, WA-ID\",\n",
    "                                        'Fargo-Wahpeton, ND-MN', 'Portland-Vancouver-Salem, OR-WA', 'Boston-Worcester-Providence, MA-RI-NH-CT', 'Pittsburgh-New Castle-Weirton, PA-OH-WV',\n",
    "                                        'San Jose-San Francisco-Oakland, CA', 'Philadelphia-Reading-Camden, PA-NJ-DE-MD'])].reset_index(drop=True)"
   ]
  },
  {
   "cell_type": "markdown",
   "id": "536aa512-f32b-4e2d-bc59-d7a6af9a7063",
   "metadata": {},
   "source": [
    "# Merging all data"
   ]
  },
  {
   "cell_type": "code",
   "execution_count": 51,
   "id": "ee738e38-bfda-4d62-a018-e3902b0db09f",
   "metadata": {},
   "outputs": [],
   "source": [
    "master = the30.merge(dps, on='csa_name', how='inner')"
   ]
  },
  {
   "cell_type": "code",
   "execution_count": 52,
   "id": "9ff25aa6-6de9-4a54-b73b-d68d35d2111b",
   "metadata": {},
   "outputs": [],
   "source": [
    "#Pivoting group_business so final data frame will be 30 rows corresponding to only 1 instance of each city\n",
    "naics_pivot = group_business[['csa_name', 'sector', 'revenue_per_establishment','num_establishments']].copy()\n",
    "\n",
    "pivoted_naics = naics_pivot.pivot_table(\n",
    "    index='csa_name',\n",
    "    columns='sector',\n",
    "    values='revenue_per_establishment'\n",
    ")\n",
    "\n",
    "pivoted_naics = pivoted_naics.reset_index()\n",
    "\n",
    "pivoted_naics.columns.name = None\n",
    "\n",
    "final_merged_df = pd.merge(\n",
    "    master,\n",
    "    pivoted_naics,\n",
    "    on='csa_name',\n",
    "    how='left'\n",
    ")"
   ]
  },
  {
   "cell_type": "code",
   "execution_count": 53,
   "id": "bd30e0d0-1c30-46ba-8d3c-879cfd41f785",
   "metadata": {},
   "outputs": [],
   "source": [
    "final_merged_df.columns = final_merged_df.columns.str.strip()"
   ]
  },
  {
   "cell_type": "code",
   "execution_count": 54,
   "id": "4c8f5474-144c-4211-b502-1969a0c71ef0",
   "metadata": {},
   "outputs": [],
   "source": [
    "columns_to_convert = [\"bachelor's degree or higher\", 'unemployment rate %', 'car_drove_to_work', 'public transportation  %',\n",
    "'walked %', 'all people %', 'no vehicles available', '1 vehicle available', '2 vehicles available', '3 or more vehicles available']"
   ]
  },
  {
   "cell_type": "code",
   "execution_count": 55,
   "id": "cc080ac7-0bb5-49d7-8b6e-a010db3df3d7",
   "metadata": {},
   "outputs": [],
   "source": [
    "for col in columns_to_convert:\n",
    "    \n",
    "    if final_merged_df[col].dtype == 'object':\n",
    "        \n",
    "        final_merged_df[col] = pd.to_numeric(final_merged_df[col].str.rstrip('%'), errors='coerce')"
   ]
  },
  {
   "cell_type": "code",
   "execution_count": 56,
   "id": "ec2fec4f-df77-479f-8e16-3e9c292f62f4",
   "metadata": {},
   "outputs": [],
   "source": [
    "final_merged_df = final_merged_df.rename(columns={\n",
    "    \"bachelor's degree or higher\": \"bachelor's degree or higher %\", \n",
    "    'car_drove_to_work': 'car_drove_to_work %', \n",
    "    'no vehicles available': 'no vehicles available %', \n",
    "    'public transportation  %': 'public transportation %', \n",
    "    '1 vehicle available': '1 vehicle available %',\n",
    "    '2 vehicles available': '2 vehicles available %', \n",
    "    '3 or more vehicles available': '3 or more vehicles available %',\n",
    "    'all people %': 'poverty_rate %',\n",
    "    'accommodation and food services': 'accommodation and food services revenue per establishment', \n",
    "    'arts, entertainment, and recreation': 'arts, entertainment, and recreation revenue per establishment',\n",
    "    'other services (except public administration)': 'local services revenue per establishment', \n",
    "    'retail trade': 'retail trade revenue per establishment'})"
   ]
  },
  {
   "cell_type": "code",
   "execution_count": 57,
   "id": "6ae65c5c-a8ae-4bde-b1d7-2ca3ebcd5498",
   "metadata": {},
   "outputs": [
    {
     "data": {
      "text/html": [
       "<div>\n",
       "<style scoped>\n",
       "    .dataframe tbody tr th:only-of-type {\n",
       "        vertical-align: middle;\n",
       "    }\n",
       "\n",
       "    .dataframe tbody tr th {\n",
       "        vertical-align: top;\n",
       "    }\n",
       "\n",
       "    .dataframe thead th {\n",
       "        text-align: right;\n",
       "    }\n",
       "</style>\n",
       "<table border=\"1\" class=\"dataframe\">\n",
       "  <thead>\n",
       "    <tr style=\"text-align: right;\">\n",
       "      <th></th>\n",
       "      <th>csa_name</th>\n",
       "      <th>csa_pop</th>\n",
       "      <th>csa_avg_walk_score</th>\n",
       "      <th>csa_size</th>\n",
       "      <th>pop_density_sq_mile</th>\n",
       "      <th>worker_density_sq_mile</th>\n",
       "      <th>avg_dist_to_transit</th>\n",
       "      <th>geometry</th>\n",
       "      <th>bachelor's degree or higher %</th>\n",
       "      <th>unemployment rate %</th>\n",
       "      <th>car_drove_to_work %</th>\n",
       "      <th>public transportation %</th>\n",
       "      <th>walked %</th>\n",
       "      <th>poverty_rate %</th>\n",
       "      <th>mean travel time to work (minutes)</th>\n",
       "      <th>median household income (dollars)</th>\n",
       "      <th>no vehicles available %</th>\n",
       "      <th>1 vehicle available %</th>\n",
       "      <th>2 vehicles available %</th>\n",
       "      <th>3 or more vehicles available %</th>\n",
       "      <th>median_home_value</th>\n",
       "      <th>median_rent</th>\n",
       "      <th>median age (years)</th>\n",
       "      <th>Accommodation and food services</th>\n",
       "      <th>Arts, entertainment, and recreation</th>\n",
       "      <th>Other services (except public administration)</th>\n",
       "      <th>Retail trade</th>\n",
       "    </tr>\n",
       "  </thead>\n",
       "  <tbody>\n",
       "    <tr>\n",
       "      <th>0</th>\n",
       "      <td>Harrisonburg-Staunton, VA</td>\n",
       "      <td>53,391.00</td>\n",
       "      <td>14.65</td>\n",
       "      <td>Small</td>\n",
       "      <td>3,079.27</td>\n",
       "      <td>1,221.02</td>\n",
       "      <td>405.86</td>\n",
       "      <td>MULTIPOLYGON (((1472520.327 1844450.631, 14725...</td>\n",
       "      <td>27.40</td>\n",
       "      <td>3.90</td>\n",
       "      <td>79.90</td>\n",
       "      <td>0.50</td>\n",
       "      <td>3.00</td>\n",
       "      <td>12.40</td>\n",
       "      <td>21.80</td>\n",
       "      <td>61,523.00</td>\n",
       "      <td>5.70</td>\n",
       "      <td>27.10</td>\n",
       "      <td>35.40</td>\n",
       "      <td>31.80</td>\n",
       "      <td>222,700.00</td>\n",
       "      <td>936.00</td>\n",
       "      <td>38.40</td>\n",
       "      <td>1,065,300.90</td>\n",
       "      <td>511,246.91</td>\n",
       "      <td>587,975.41</td>\n",
       "      <td>3,451,458.75</td>\n",
       "    </tr>\n",
       "    <tr>\n",
       "      <th>1</th>\n",
       "      <td>Memphis-Forrest City, TN-MS-AR</td>\n",
       "      <td>597,649.00</td>\n",
       "      <td>12.61</td>\n",
       "      <td>Large</td>\n",
       "      <td>2,517.05</td>\n",
       "      <td>1,059.69</td>\n",
       "      <td>501.14</td>\n",
       "      <td>MULTIPOLYGON (((526597.903 1359375.548, 526594...</td>\n",
       "      <td>29.40</td>\n",
       "      <td>7.10</td>\n",
       "      <td>82.90</td>\n",
       "      <td>0.50</td>\n",
       "      <td>0.90</td>\n",
       "      <td>17.10</td>\n",
       "      <td>24.40</td>\n",
       "      <td>56,437.00</td>\n",
       "      <td>7.30</td>\n",
       "      <td>35.40</td>\n",
       "      <td>35.80</td>\n",
       "      <td>21.50</td>\n",
       "      <td>171,200.00</td>\n",
       "      <td>992.00</td>\n",
       "      <td>36.60</td>\n",
       "      <td>1,422,941.34</td>\n",
       "      <td>2,685,791.41</td>\n",
       "      <td>1,933,325.16</td>\n",
       "      <td>6,345,227.79</td>\n",
       "    </tr>\n",
       "  </tbody>\n",
       "</table>\n",
       "</div>"
      ],
      "text/plain": [
       "                         csa_name    csa_pop  csa_avg_walk_score csa_size  \\\n",
       "0       Harrisonburg-Staunton, VA  53,391.00               14.65    Small   \n",
       "1  Memphis-Forrest City, TN-MS-AR 597,649.00               12.61    Large   \n",
       "\n",
       "   pop_density_sq_mile  worker_density_sq_mile  avg_dist_to_transit  \\\n",
       "0             3,079.27                1,221.02               405.86   \n",
       "1             2,517.05                1,059.69               501.14   \n",
       "\n",
       "                                            geometry  \\\n",
       "0  MULTIPOLYGON (((1472520.327 1844450.631, 14725...   \n",
       "1  MULTIPOLYGON (((526597.903 1359375.548, 526594...   \n",
       "\n",
       "   bachelor's degree or higher %  unemployment rate %  car_drove_to_work %  \\\n",
       "0                          27.40                 3.90                79.90   \n",
       "1                          29.40                 7.10                82.90   \n",
       "\n",
       "   public transportation %  walked %  poverty_rate %  \\\n",
       "0                     0.50      3.00           12.40   \n",
       "1                     0.50      0.90           17.10   \n",
       "\n",
       "   mean travel time to work (minutes)  median household income (dollars)  \\\n",
       "0                               21.80                          61,523.00   \n",
       "1                               24.40                          56,437.00   \n",
       "\n",
       "   no vehicles available %  1 vehicle available %  2 vehicles available %  \\\n",
       "0                     5.70                  27.10                   35.40   \n",
       "1                     7.30                  35.40                   35.80   \n",
       "\n",
       "   3 or more vehicles available %  median_home_value  median_rent  \\\n",
       "0                           31.80         222,700.00       936.00   \n",
       "1                           21.50         171,200.00       992.00   \n",
       "\n",
       "   median age (years)  Accommodation and food services  \\\n",
       "0               38.40                     1,065,300.90   \n",
       "1               36.60                     1,422,941.34   \n",
       "\n",
       "   Arts, entertainment, and recreation  \\\n",
       "0                           511,246.91   \n",
       "1                         2,685,791.41   \n",
       "\n",
       "   Other services (except public administration)  Retail trade  \n",
       "0                                     587,975.41  3,451,458.75  \n",
       "1                                   1,933,325.16  6,345,227.79  "
      ]
     },
     "execution_count": 57,
     "metadata": {},
     "output_type": "execute_result"
    }
   ],
   "source": [
    "final_merged_df.head(2)"
   ]
  },
  {
   "cell_type": "markdown",
   "id": "eefb4fe9-3689-4db6-abb7-f98f40663938",
   "metadata": {},
   "source": [
    "### Top 5 Least Walkable Cities (Small -> Medium -> Large)"
   ]
  },
  {
   "cell_type": "code",
   "execution_count": 59,
   "id": "9cb25e87-cec6-4db7-a28e-a2aff8fb5787",
   "metadata": {},
   "outputs": [],
   "source": [
    "Bottom_5_Small = final_merged_df[final_merged_df['csa_size'] == 'Small'].nsmallest(5, 'csa_avg_walk_score').reset_index(drop=True)"
   ]
  },
  {
   "cell_type": "code",
   "execution_count": 60,
   "id": "5f6bda92-eca7-44d7-823f-ca602901b3a6",
   "metadata": {},
   "outputs": [],
   "source": [
    "Bottom_5_Medium = final_merged_df[final_merged_df['csa_size'] == 'Medium'].nsmallest(5, 'csa_avg_walk_score').reset_index(drop=True)"
   ]
  },
  {
   "cell_type": "code",
   "execution_count": 61,
   "id": "1096dbde-2c24-4bca-af7f-2c1a60cc3163",
   "metadata": {},
   "outputs": [],
   "source": [
    "Bottom_5_Large = final_merged_df[final_merged_df['csa_size'] == 'Large'].nsmallest(5, 'csa_avg_walk_score').reset_index(drop=True)"
   ]
  },
  {
   "cell_type": "markdown",
   "id": "324c3718-966e-4a57-9e18-92a5e89cf5e8",
   "metadata": {},
   "source": [
    "### Top 5 Most Walkable Cities (Small -> Medium -> Large)"
   ]
  },
  {
   "cell_type": "code",
   "execution_count": 63,
   "id": "10a32a22-f1a6-4ac3-aa01-faef7bace7c6",
   "metadata": {},
   "outputs": [],
   "source": [
    "Top_5_Small = final_merged_df[final_merged_df['csa_size'] == 'Small'].nlargest(5, 'csa_avg_walk_score').reset_index(drop=True)"
   ]
  },
  {
   "cell_type": "code",
   "execution_count": 64,
   "id": "41cc10de-8bff-470d-8787-57eb7c31d6f3",
   "metadata": {},
   "outputs": [],
   "source": [
    "Top_5_Medium = final_merged_df[final_merged_df['csa_size'] == 'Medium'].nlargest(5, 'csa_avg_walk_score').reset_index(drop=True)"
   ]
  },
  {
   "cell_type": "code",
   "execution_count": 65,
   "id": "57cbb319-735a-4922-ac78-10aafbec7427",
   "metadata": {},
   "outputs": [],
   "source": [
    "Top_5_Large = final_merged_df[final_merged_df['csa_size'] == 'Large'].nlargest(5, 'csa_avg_walk_score').reset_index(drop=True)"
   ]
  },
  {
   "cell_type": "code",
   "execution_count": 66,
   "id": "6a49d970-a05b-465e-baff-4190474334d2",
   "metadata": {},
   "outputs": [],
   "source": [
    "Top_5_Large['walkability_ranking'] = 'Top'\n",
    "Top_5_Medium['walkability_ranking'] = 'Top'\n",
    "Top_5_Small['walkability_ranking'] = 'Top'\n",
    "Bottom_5_Large['walkability_ranking'] = 'Bottom'\n",
    "Bottom_5_Medium['walkability_ranking'] = 'Bottom'\n",
    "Bottom_5_Small['walkability_ranking'] = 'Bottom'"
   ]
  },
  {
   "cell_type": "code",
   "execution_count": 67,
   "id": "74c65fb7-11dc-4977-83ca-7e7fc2041595",
   "metadata": {},
   "outputs": [],
   "source": [
    "all_dfs = [Top_5_Large, Top_5_Medium, Top_5_Small, Bottom_5_Large, Bottom_5_Medium, Bottom_5_Small]\n",
    "final = pd.concat(all_dfs, ignore_index=True)"
   ]
  },
  {
   "cell_type": "code",
   "execution_count": 68,
   "id": "2cea3828-088b-464d-883e-7feeb8057a38",
   "metadata": {},
   "outputs": [],
   "source": [
    "final = final.rename(columns={\n",
    "    \"bachelor's degree or higher\": \"bachelor's degree or higher %\", \n",
    "    'car_drove_to_work': 'car_drove_to_work %', \n",
    "    'no vehicles available': 'no vehicles available %', \n",
    "    'public transportation  %': 'public transportation %', \n",
    "    '1 vehicle available': '1 vehicle available %',\n",
    "    '2 vehicles available': '2 vehicles available %', \n",
    "    '3 or more vehicles available': '3 or more vehicles available %',\n",
    "    'all people %': 'poverty_rate %',\n",
    "    'accommodation and food services': 'accommodation and food services revenue per establishment', \n",
    "    'arts, entertainment, and recreation': 'arts, entertainment, and recreation revenue per establishment',\n",
    "    'other services (except public administration)': 'local services revenue per establishment', \n",
    "    'Retail trade': 'retail trade revenue per establishment'})"
   ]
  },
  {
   "cell_type": "code",
   "execution_count": 69,
   "id": "3d3b89d4-2bb9-4323-8daf-c5626b5e3f1b",
   "metadata": {},
   "outputs": [],
   "source": [
    "final = final[['csa_name','csa_size', 'csa_avg_walk_score', 'walkability_ranking', 'pop_density_sq_mile',\n",
    "       'worker_density_sq_mile', 'avg_dist_to_transit', 'geometry',\n",
    "       \"bachelor's degree or higher %\", 'unemployment rate %',\n",
    "       'car_drove_to_work %', 'public transportation %', 'walked %',\n",
    "       'poverty_rate %', 'mean travel time to work (minutes)',\n",
    "       'median household income (dollars)', 'no vehicles available %',\n",
    "       '1 vehicle available %', '2 vehicles available %',\n",
    "       '3 or more vehicles available %', 'median_home_value', 'median_rent',\n",
    "       'median age (years)', 'Accommodation and food services',\n",
    "       'Arts, entertainment, and recreation',\n",
    "       'Other services (except public administration)',\n",
    "       'retail trade revenue per establishment']]"
   ]
  },
  {
   "cell_type": "markdown",
   "id": "b1f3653b-4d17-4720-b0ec-60ba3d89caf0",
   "metadata": {},
   "source": [
    "# Running correlations to see what relationships exist between walkability and all of the other data"
   ]
  },
  {
   "cell_type": "code",
   "execution_count": 71,
   "id": "7d5a44f8-60a4-4105-be1f-32ee3f9d019c",
   "metadata": {},
   "outputs": [],
   "source": [
    "numerical_df = final.select_dtypes(include=['number'])"
   ]
  },
  {
   "cell_type": "code",
   "execution_count": 72,
   "id": "8e887cc2-d0e3-4a91-b268-beb47d695dc4",
   "metadata": {},
   "outputs": [],
   "source": [
    "correlation_matrix = numerical_df.corr(method='spearman')"
   ]
  },
  {
   "cell_type": "code",
   "execution_count": 73,
   "id": "da197132-355f-4f0c-bd2c-9c3fc0240dc8",
   "metadata": {},
   "outputs": [
    {
     "data": {
      "text/html": [
       "<div>\n",
       "<style scoped>\n",
       "    .dataframe tbody tr th:only-of-type {\n",
       "        vertical-align: middle;\n",
       "    }\n",
       "\n",
       "    .dataframe tbody tr th {\n",
       "        vertical-align: top;\n",
       "    }\n",
       "\n",
       "    .dataframe thead th {\n",
       "        text-align: right;\n",
       "    }\n",
       "</style>\n",
       "<table border=\"1\" class=\"dataframe\">\n",
       "  <thead>\n",
       "    <tr style=\"text-align: right;\">\n",
       "      <th></th>\n",
       "      <th>csa_avg_walk_score</th>\n",
       "      <th>pop_density_sq_mile</th>\n",
       "      <th>worker_density_sq_mile</th>\n",
       "      <th>avg_dist_to_transit</th>\n",
       "      <th>bachelor's degree or higher %</th>\n",
       "      <th>unemployment rate %</th>\n",
       "      <th>car_drove_to_work %</th>\n",
       "      <th>public transportation %</th>\n",
       "      <th>walked %</th>\n",
       "      <th>poverty_rate %</th>\n",
       "      <th>mean travel time to work (minutes)</th>\n",
       "      <th>median household income (dollars)</th>\n",
       "      <th>no vehicles available %</th>\n",
       "      <th>1 vehicle available %</th>\n",
       "      <th>2 vehicles available %</th>\n",
       "      <th>3 or more vehicles available %</th>\n",
       "      <th>median_home_value</th>\n",
       "      <th>median_rent</th>\n",
       "      <th>median age (years)</th>\n",
       "      <th>Accommodation and food services</th>\n",
       "      <th>Arts, entertainment, and recreation</th>\n",
       "      <th>Other services (except public administration)</th>\n",
       "      <th>retail trade revenue per establishment</th>\n",
       "    </tr>\n",
       "  </thead>\n",
       "  <tbody>\n",
       "    <tr>\n",
       "      <th>csa_avg_walk_score</th>\n",
       "      <td>1.00</td>\n",
       "      <td>0.16</td>\n",
       "      <td>0.21</td>\n",
       "      <td>-0.41</td>\n",
       "      <td>0.16</td>\n",
       "      <td>-0.37</td>\n",
       "      <td>-0.39</td>\n",
       "      <td>0.07</td>\n",
       "      <td>0.45</td>\n",
       "      <td>-0.52</td>\n",
       "      <td>-0.11</td>\n",
       "      <td>0.30</td>\n",
       "      <td>0.07</td>\n",
       "      <td>-0.39</td>\n",
       "      <td>-0.17</td>\n",
       "      <td>0.35</td>\n",
       "      <td>0.46</td>\n",
       "      <td>0.24</td>\n",
       "      <td>0.07</td>\n",
       "      <td>-0.27</td>\n",
       "      <td>0.06</td>\n",
       "      <td>-0.09</td>\n",
       "      <td>0.21</td>\n",
       "    </tr>\n",
       "    <tr>\n",
       "      <th>pop_density_sq_mile</th>\n",
       "      <td>0.16</td>\n",
       "      <td>1.00</td>\n",
       "      <td>0.97</td>\n",
       "      <td>-0.50</td>\n",
       "      <td>0.34</td>\n",
       "      <td>0.00</td>\n",
       "      <td>-0.39</td>\n",
       "      <td>0.56</td>\n",
       "      <td>0.25</td>\n",
       "      <td>-0.22</td>\n",
       "      <td>0.47</td>\n",
       "      <td>0.41</td>\n",
       "      <td>0.47</td>\n",
       "      <td>0.22</td>\n",
       "      <td>-0.28</td>\n",
       "      <td>-0.31</td>\n",
       "      <td>0.22</td>\n",
       "      <td>0.26</td>\n",
       "      <td>-0.32</td>\n",
       "      <td>0.06</td>\n",
       "      <td>0.49</td>\n",
       "      <td>0.56</td>\n",
       "      <td>0.52</td>\n",
       "    </tr>\n",
       "    <tr>\n",
       "      <th>worker_density_sq_mile</th>\n",
       "      <td>0.21</td>\n",
       "      <td>0.97</td>\n",
       "      <td>1.00</td>\n",
       "      <td>-0.53</td>\n",
       "      <td>0.39</td>\n",
       "      <td>-0.07</td>\n",
       "      <td>-0.40</td>\n",
       "      <td>0.58</td>\n",
       "      <td>0.33</td>\n",
       "      <td>-0.31</td>\n",
       "      <td>0.41</td>\n",
       "      <td>0.46</td>\n",
       "      <td>0.48</td>\n",
       "      <td>0.18</td>\n",
       "      <td>-0.22</td>\n",
       "      <td>-0.32</td>\n",
       "      <td>0.23</td>\n",
       "      <td>0.22</td>\n",
       "      <td>-0.35</td>\n",
       "      <td>-0.02</td>\n",
       "      <td>0.46</td>\n",
       "      <td>0.59</td>\n",
       "      <td>0.61</td>\n",
       "    </tr>\n",
       "    <tr>\n",
       "      <th>avg_dist_to_transit</th>\n",
       "      <td>-0.41</td>\n",
       "      <td>-0.50</td>\n",
       "      <td>-0.53</td>\n",
       "      <td>1.00</td>\n",
       "      <td>-0.24</td>\n",
       "      <td>0.22</td>\n",
       "      <td>0.19</td>\n",
       "      <td>-0.33</td>\n",
       "      <td>-0.47</td>\n",
       "      <td>0.24</td>\n",
       "      <td>0.06</td>\n",
       "      <td>-0.32</td>\n",
       "      <td>-0.42</td>\n",
       "      <td>-0.09</td>\n",
       "      <td>0.30</td>\n",
       "      <td>0.16</td>\n",
       "      <td>-0.10</td>\n",
       "      <td>0.02</td>\n",
       "      <td>0.11</td>\n",
       "      <td>0.00</td>\n",
       "      <td>-0.22</td>\n",
       "      <td>-0.41</td>\n",
       "      <td>-0.45</td>\n",
       "    </tr>\n",
       "    <tr>\n",
       "      <th>bachelor's degree or higher %</th>\n",
       "      <td>0.16</td>\n",
       "      <td>0.34</td>\n",
       "      <td>0.39</td>\n",
       "      <td>-0.24</td>\n",
       "      <td>1.00</td>\n",
       "      <td>-0.33</td>\n",
       "      <td>-0.78</td>\n",
       "      <td>0.59</td>\n",
       "      <td>0.52</td>\n",
       "      <td>-0.57</td>\n",
       "      <td>0.22</td>\n",
       "      <td>0.78</td>\n",
       "      <td>0.14</td>\n",
       "      <td>0.02</td>\n",
       "      <td>0.23</td>\n",
       "      <td>-0.21</td>\n",
       "      <td>0.65</td>\n",
       "      <td>0.56</td>\n",
       "      <td>-0.37</td>\n",
       "      <td>0.40</td>\n",
       "      <td>0.08</td>\n",
       "      <td>0.57</td>\n",
       "      <td>0.39</td>\n",
       "    </tr>\n",
       "  </tbody>\n",
       "</table>\n",
       "</div>"
      ],
      "text/plain": [
       "                               csa_avg_walk_score  pop_density_sq_mile  \\\n",
       "csa_avg_walk_score                           1.00                 0.16   \n",
       "pop_density_sq_mile                          0.16                 1.00   \n",
       "worker_density_sq_mile                       0.21                 0.97   \n",
       "avg_dist_to_transit                         -0.41                -0.50   \n",
       "bachelor's degree or higher %                0.16                 0.34   \n",
       "\n",
       "                               worker_density_sq_mile  avg_dist_to_transit  \\\n",
       "csa_avg_walk_score                               0.21                -0.41   \n",
       "pop_density_sq_mile                              0.97                -0.50   \n",
       "worker_density_sq_mile                           1.00                -0.53   \n",
       "avg_dist_to_transit                             -0.53                 1.00   \n",
       "bachelor's degree or higher %                    0.39                -0.24   \n",
       "\n",
       "                               bachelor's degree or higher %  \\\n",
       "csa_avg_walk_score                                      0.16   \n",
       "pop_density_sq_mile                                     0.34   \n",
       "worker_density_sq_mile                                  0.39   \n",
       "avg_dist_to_transit                                    -0.24   \n",
       "bachelor's degree or higher %                           1.00   \n",
       "\n",
       "                               unemployment rate %  car_drove_to_work %  \\\n",
       "csa_avg_walk_score                           -0.37                -0.39   \n",
       "pop_density_sq_mile                           0.00                -0.39   \n",
       "worker_density_sq_mile                       -0.07                -0.40   \n",
       "avg_dist_to_transit                           0.22                 0.19   \n",
       "bachelor's degree or higher %                -0.33                -0.78   \n",
       "\n",
       "                               public transportation %  walked %  \\\n",
       "csa_avg_walk_score                                0.07      0.45   \n",
       "pop_density_sq_mile                               0.56      0.25   \n",
       "worker_density_sq_mile                            0.58      0.33   \n",
       "avg_dist_to_transit                              -0.33     -0.47   \n",
       "bachelor's degree or higher %                     0.59      0.52   \n",
       "\n",
       "                               poverty_rate %  \\\n",
       "csa_avg_walk_score                      -0.52   \n",
       "pop_density_sq_mile                     -0.22   \n",
       "worker_density_sq_mile                  -0.31   \n",
       "avg_dist_to_transit                      0.24   \n",
       "bachelor's degree or higher %           -0.57   \n",
       "\n",
       "                               mean travel time to work (minutes)  \\\n",
       "csa_avg_walk_score                                          -0.11   \n",
       "pop_density_sq_mile                                          0.47   \n",
       "worker_density_sq_mile                                       0.41   \n",
       "avg_dist_to_transit                                          0.06   \n",
       "bachelor's degree or higher %                                0.22   \n",
       "\n",
       "                               median household income (dollars)  \\\n",
       "csa_avg_walk_score                                          0.30   \n",
       "pop_density_sq_mile                                         0.41   \n",
       "worker_density_sq_mile                                      0.46   \n",
       "avg_dist_to_transit                                        -0.32   \n",
       "bachelor's degree or higher %                               0.78   \n",
       "\n",
       "                               no vehicles available %  1 vehicle available %  \\\n",
       "csa_avg_walk_score                                0.07                  -0.39   \n",
       "pop_density_sq_mile                               0.47                   0.22   \n",
       "worker_density_sq_mile                            0.48                   0.18   \n",
       "avg_dist_to_transit                              -0.42                  -0.09   \n",
       "bachelor's degree or higher %                     0.14                   0.02   \n",
       "\n",
       "                               2 vehicles available %  \\\n",
       "csa_avg_walk_score                              -0.17   \n",
       "pop_density_sq_mile                             -0.28   \n",
       "worker_density_sq_mile                          -0.22   \n",
       "avg_dist_to_transit                              0.30   \n",
       "bachelor's degree or higher %                    0.23   \n",
       "\n",
       "                               3 or more vehicles available %  \\\n",
       "csa_avg_walk_score                                       0.35   \n",
       "pop_density_sq_mile                                     -0.31   \n",
       "worker_density_sq_mile                                  -0.32   \n",
       "avg_dist_to_transit                                      0.16   \n",
       "bachelor's degree or higher %                           -0.21   \n",
       "\n",
       "                               median_home_value  median_rent  \\\n",
       "csa_avg_walk_score                          0.46         0.24   \n",
       "pop_density_sq_mile                         0.22         0.26   \n",
       "worker_density_sq_mile                      0.23         0.22   \n",
       "avg_dist_to_transit                        -0.10         0.02   \n",
       "bachelor's degree or higher %               0.65         0.56   \n",
       "\n",
       "                               median age (years)  \\\n",
       "csa_avg_walk_score                           0.07   \n",
       "pop_density_sq_mile                         -0.32   \n",
       "worker_density_sq_mile                      -0.35   \n",
       "avg_dist_to_transit                          0.11   \n",
       "bachelor's degree or higher %               -0.37   \n",
       "\n",
       "                               Accommodation and food services  \\\n",
       "csa_avg_walk_score                                       -0.27   \n",
       "pop_density_sq_mile                                       0.06   \n",
       "worker_density_sq_mile                                   -0.02   \n",
       "avg_dist_to_transit                                       0.00   \n",
       "bachelor's degree or higher %                             0.40   \n",
       "\n",
       "                               Arts, entertainment, and recreation  \\\n",
       "csa_avg_walk_score                                            0.06   \n",
       "pop_density_sq_mile                                           0.49   \n",
       "worker_density_sq_mile                                        0.46   \n",
       "avg_dist_to_transit                                          -0.22   \n",
       "bachelor's degree or higher %                                 0.08   \n",
       "\n",
       "                               Other services (except public administration)  \\\n",
       "csa_avg_walk_score                                                     -0.09   \n",
       "pop_density_sq_mile                                                     0.56   \n",
       "worker_density_sq_mile                                                  0.59   \n",
       "avg_dist_to_transit                                                    -0.41   \n",
       "bachelor's degree or higher %                                           0.57   \n",
       "\n",
       "                               retail trade revenue per establishment  \n",
       "csa_avg_walk_score                                               0.21  \n",
       "pop_density_sq_mile                                              0.52  \n",
       "worker_density_sq_mile                                           0.61  \n",
       "avg_dist_to_transit                                             -0.45  \n",
       "bachelor's degree or higher %                                    0.39  "
      ]
     },
     "execution_count": 73,
     "metadata": {},
     "output_type": "execute_result"
    }
   ],
   "source": [
    "correlation_matrix.head()"
   ]
  },
  {
   "cell_type": "code",
   "execution_count": 74,
   "id": "fbf5fdc4-5624-42bb-bad2-df90cdf0362b",
   "metadata": {},
   "outputs": [],
   "source": [
    "walk_score_correlations = correlation_matrix['csa_avg_walk_score'].sort_values(ascending=False)"
   ]
  },
  {
   "cell_type": "code",
   "execution_count": 75,
   "id": "80112632-28dd-4a54-bbc5-6b9441a23b90",
   "metadata": {},
   "outputs": [
    {
     "data": {
      "text/plain": [
       "csa_avg_walk_score                               1.00\n",
       "median_home_value                                0.46\n",
       "walked %                                         0.45\n",
       "3 or more vehicles available %                   0.35\n",
       "median household income (dollars)                0.30\n",
       "median_rent                                      0.24\n",
       "worker_density_sq_mile                           0.21\n",
       "retail trade revenue per establishment           0.21\n",
       "bachelor's degree or higher %                    0.16\n",
       "pop_density_sq_mile                              0.16\n",
       "public transportation %                          0.07\n",
       "median age (years)                               0.07\n",
       "no vehicles available %                          0.07\n",
       "Arts, entertainment, and recreation              0.06\n",
       "Other services (except public administration)   -0.09\n",
       "mean travel time to work (minutes)              -0.11\n",
       "2 vehicles available %                          -0.17\n",
       "Accommodation and food services                 -0.27\n",
       "unemployment rate %                             -0.37\n",
       "1 vehicle available %                           -0.39\n",
       "car_drove_to_work %                             -0.39\n",
       "avg_dist_to_transit                             -0.41\n",
       "poverty_rate %                                  -0.52\n",
       "Name: csa_avg_walk_score, dtype: float64"
      ]
     },
     "execution_count": 75,
     "metadata": {},
     "output_type": "execute_result"
    }
   ],
   "source": [
    "walk_score_correlations"
   ]
  },
  {
   "cell_type": "markdown",
   "id": "fa8bed4c-0b19-427a-a1c3-1cc68bd8af22",
   "metadata": {},
   "source": [
    "# QUESTION 1"
   ]
  },
  {
   "cell_type": "markdown",
   "id": "1784a4f1-b2c2-4e58-813d-fd294726a9d3",
   "metadata": {},
   "source": [
    "# Which demographic, socioeconomic, and built environment factors correlate with higher walkability scores at the CSA level?"
   ]
  },
  {
   "cell_type": "markdown",
   "id": "5584376d-0f62-480b-a5b0-f525fd9b41c3",
   "metadata": {},
   "source": [
    "# Demographics"
   ]
  },
  {
   "cell_type": "markdown",
   "id": "505cf435-96a3-48bf-8f94-f5c364c8f02b",
   "metadata": {},
   "source": [
    "## Percentage holding a bachelor's degree or higher and median age didn't seem to effect the walkability score"
   ]
  },
  {
   "cell_type": "markdown",
   "id": "fb98a101-8138-447a-a2ed-bd41df9873bd",
   "metadata": {},
   "source": [
    "# Socioeconomics"
   ]
  },
  {
   "cell_type": "markdown",
   "id": "805a2503-aa11-4508-b598-984aed3bf743",
   "metadata": {},
   "source": [
    "## Higher median home values showed a moderate correlation with walkability of a CSA, Median rent and median income showed a low-moderate correlation with walkability scores as well, Unemployment rate shows a low-moderate correlation as it went down walkability scores went up, Poverty rate was the best indicator of walkability score in my data set as it went down walkability scores increased, vehicle availability didn't show a correlation until a population had a higher percentage of people that had 3 or more vehicles to use, worker density per square mile showed a weak correlation as that number went up. Businesses didn't really seem to be affected too much outside of Accommodation and food services which showed a weak negative correlation interestingly, as those businesses made less money the walkability score increased."
   ]
  },
  {
   "cell_type": "markdown",
   "id": "77bf909d-9ddd-42f8-9a83-34df8c9c4393",
   "metadata": {},
   "source": [
    "# Built Environment Factors"
   ]
  },
  {
   "cell_type": "markdown",
   "id": "89bdc407-d8d7-42d0-a9da-ab664e3871fd",
   "metadata": {},
   "source": [
    "## Average distance to transit was one of the stronger correlations I found, as a CSA's avg distance to public transit went down (people are closer to transit) the walkability score went up, one of my stronger correlations showed that as less people traveled to work via car walkability score went up, travel time to work showed no meaningful correlation "
   ]
  },
  {
   "cell_type": "markdown",
   "id": "d226ebe1-ac15-4844-85fc-fc1d09d4fe3b",
   "metadata": {},
   "source": [
    "# Conclusion"
   ]
  },
  {
   "cell_type": "markdown",
   "id": "1729f8b7-6cdb-4fd1-aad3-835e7b384682",
   "metadata": {},
   "source": [
    "## More walkable cities tend to be economically healthier, better connected to transit, and less car dependent."
   ]
  },
  {
   "cell_type": "code",
   "execution_count": 86,
   "id": "252513f1-a0e6-49c4-873c-f0d798cfa924",
   "metadata": {},
   "outputs": [
    {
     "name": "stderr",
     "output_type": "stream",
     "text": [
      "C:\\Users\\noahf\\AppData\\Local\\Temp\\ipykernel_21572\\1698354457.py:3: FutureWarning: \n",
      "\n",
      "Passing `palette` without assigning `hue` is deprecated and will be removed in v0.14.0. Assign the `y` variable to `hue` and set `legend=False` for the same effect.\n",
      "\n",
      "  sns.barplot(x=q1corr.values, y=q1corr.index, palette='coolwarm')\n"
     ]
    },
    {
     "data": {
      "image/png": "[encoded data removed]",
      "text/plain": [
       "<Figure size 640x480 with 1 Axes>"
      ]
     },
     "metadata": {},
     "output_type": "display_data"
    }
   ],
   "source": [
    "q1corr = numerical_df.corr(method='spearman')['csa_avg_walk_score']\n",
    "q1corr = q1corr.drop('csa_avg_walk_score')\n",
    "sns.barplot(x=q1corr.values, y=q1corr.index, palette='coolwarm')\n",
    "plt.title('Correlations of Walkability at CSA Level')\n",
    "plt.xlabel('Correlation with Walk Score')\n",
    "plt.ylabel('Factors')\n",
    "plt.show()"
   ]
  },
  {
   "cell_type": "markdown",
   "id": "c2e6b5e6-12ab-4bd6-ad24-65d210d38459",
   "metadata": {},
   "source": [
    "# QUESTION 2"
   ]
  },
  {
   "cell_type": "markdown",
   "id": "788ab8f1-3285-4298-a080-5d86aae76e3e",
   "metadata": {},
   "source": [
    "# How strongly do commuting behaviors relate to the potential for walkability across CSAs?"
   ]
  },
  {
   "cell_type": "markdown",
   "id": "1f4ef66c-5b19-4a0e-b890-064b354dfac3",
   "metadata": {},
   "source": [
    "### Commuting behaviors show meaningful relationships with walkability across CSAs. Areas with higher walk scores tend to have more residents walking to work and fewer driving. However, public transportation usage appears only weakly related to walkability, highlighting that good transit and walkable environments don’t always go hand in hand."
   ]
  },
  {
   "cell_type": "code",
   "execution_count": 90,
   "id": "9ab296a9-e2fa-47ed-b424-19b47bddd793",
   "metadata": {},
   "outputs": [],
   "source": [
    "commute_cols = numerical_df[['csa_avg_walk_score','car_drove_to_work %', 'public transportation %', 'walked %']]"
   ]
  },
  {
   "cell_type": "code",
   "execution_count": 91,
   "id": "b70c956f-5706-4668-ae2c-aa65cbf48c4c",
   "metadata": {},
   "outputs": [],
   "source": [
    "commute_corr = commute_cols.corr(method='spearman')"
   ]
  },
  {
   "cell_type": "markdown",
   "id": "c8f64746-82bb-4899-81ef-a00c9b56fe28",
   "metadata": {},
   "source": [
    "# QUESTION 3"
   ]
  },
  {
   "cell_type": "markdown",
   "id": "5f4c6fcf-df0f-48c5-9319-132e804979c8",
   "metadata": {},
   "source": [
    "## Do top 5 small CSAs outperform bottom 5 large CSAs on income, education, and poverty rate?"
   ]
  },
  {
   "cell_type": "markdown",
   "id": "5cc9985b-c392-4732-9c7c-f78f4203cc25",
   "metadata": {},
   "source": [
    "### Even though Bottom 5 Large CSAs have higher income and more college grads, they also have slightly higher poverty rates, which could suggest greater inequality or higher cost of living in those metros."
   ]
  },
  {
   "cell_type": "code",
   "execution_count": 95,
   "id": "07abb6df-99e1-4bb0-b95c-d3edc5765784",
   "metadata": {},
   "outputs": [],
   "source": [
    "Top_5_Small_Comp = Top_5_Small[['median household income (dollars)', \"bachelor's degree or higher %\", 'poverty_rate %']]\n",
    "Bottom_5_Large_Comp = Bottom_5_Large[['median household income (dollars)', \"bachelor's degree or higher %\", 'poverty_rate %']]"
   ]
  },
  {
   "cell_type": "code",
   "execution_count": 96,
   "id": "6e5f8141-a8ce-45a1-839d-f5f35bae5be9",
   "metadata": {},
   "outputs": [],
   "source": [
    "Top_5_Small_Means = Top_5_Small_Comp.mean()\n",
    "Bottom_5_Large_Means = Bottom_5_Large_Comp.mean()"
   ]
  },
  {
   "cell_type": "code",
   "execution_count": 97,
   "id": "a1a808c2-ed44-4530-8b82-84f0361164a5",
   "metadata": {},
   "outputs": [],
   "source": [
    "comparison = pd.DataFrame({\n",
    "    \"Top 5 Small\": Top_5_Small_Means,\n",
    "    \"Bottom 5 Large\": Bottom_5_Large_Means})"
   ]
  },
  {
   "cell_type": "code",
   "execution_count": 98,
   "id": "7a742914-d995-47f7-b8fa-20be602b3df5",
   "metadata": {},
   "outputs": [
    {
     "data": {
      "text/html": [
       "<div>\n",
       "<style scoped>\n",
       "    .dataframe tbody tr th:only-of-type {\n",
       "        vertical-align: middle;\n",
       "    }\n",
       "\n",
       "    .dataframe tbody tr th {\n",
       "        vertical-align: top;\n",
       "    }\n",
       "\n",
       "    .dataframe thead th {\n",
       "        text-align: right;\n",
       "    }\n",
       "</style>\n",
       "<table border=\"1\" class=\"dataframe\">\n",
       "  <thead>\n",
       "    <tr style=\"text-align: right;\">\n",
       "      <th></th>\n",
       "      <th>Top 5 Small</th>\n",
       "      <th>Bottom 5 Large</th>\n",
       "    </tr>\n",
       "  </thead>\n",
       "  <tbody>\n",
       "    <tr>\n",
       "      <th>median household income (dollars)</th>\n",
       "      <td>60,024.20</td>\n",
       "      <td>67,671.80</td>\n",
       "    </tr>\n",
       "    <tr>\n",
       "      <th>bachelor's degree or higher %</th>\n",
       "      <td>28.60</td>\n",
       "      <td>34.12</td>\n",
       "    </tr>\n",
       "    <tr>\n",
       "      <th>poverty_rate %</th>\n",
       "      <td>12.56</td>\n",
       "      <td>13.78</td>\n",
       "    </tr>\n",
       "  </tbody>\n",
       "</table>\n",
       "</div>"
      ],
      "text/plain": [
       "                                   Top 5 Small  Bottom 5 Large\n",
       "median household income (dollars)    60,024.20       67,671.80\n",
       "bachelor's degree or higher %            28.60           34.12\n",
       "poverty_rate %                           12.56           13.78"
      ]
     },
     "execution_count": 98,
     "metadata": {},
     "output_type": "execute_result"
    }
   ],
   "source": [
    "comparison"
   ]
  },
  {
   "cell_type": "code",
   "execution_count": 99,
   "id": "374daf16-0138-4d2d-9edf-6f8a30de95a8",
   "metadata": {},
   "outputs": [],
   "source": [
    "final.to_csv('factorsinfluencingwalkability.csv', index=False)"
   ]
  },
  {
   "cell_type": "markdown",
   "id": "4fcbd1bc-84e6-4a43-adc9-54087404b48e",
   "metadata": {},
   "source": [
    "# Calculations to put into PowerBI"
   ]
  },
  {
   "cell_type": "code",
   "execution_count": 101,
   "id": "a7cf02ec-ac1a-4729-a8d9-4dedd12cfe9d",
   "metadata": {},
   "outputs": [],
   "source": [
    "top_factors = numerical_df[['csa_avg_walk_score', 'poverty_rate %', 'median_home_value', 'walked %', 'avg_dist_to_transit', 'car_drove_to_work %', 'unemployment rate %']]"
   ]
  },
  {
   "cell_type": "code",
   "execution_count": 102,
   "id": "13673ebc-224d-42c9-b0e7-d0e45e97f6cd",
   "metadata": {},
   "outputs": [],
   "source": [
    "top_factors = top_factors.rename(columns={'walked %': 'walked to work %', 'csa_avg_walk_score':'csa walk score', 'poverty_rate %':'poverty rate %',\n",
    "                            'avg_dist_to_transit':'avg distance to public transit', 'car_drove_to_work %':'car drove to work %',\n",
    "                            'median_home_value': 'median home value'})"
   ]
  },
  {
   "cell_type": "code",
   "execution_count": 103,
   "id": "296adb26-d1b5-4199-94e3-d76afefb93a4",
   "metadata": {},
   "outputs": [],
   "source": [
    "top_factors_corr = top_factors.corr(method = 'spearman')"
   ]
  },
  {
   "cell_type": "code",
   "execution_count": 104,
   "id": "17dcc374-33fd-45ce-b028-7132368aa673",
   "metadata": {},
   "outputs": [],
   "source": [
    "top_factors_corr.to_csv('topfactorsinfluencingwalkability.csv', index=False)"
   ]
  },
  {
   "cell_type": "code",
   "execution_count": 105,
   "id": "ec5c4941-8d17-4c3a-8986-15d62e47a518",
   "metadata": {},
   "outputs": [],
   "source": [
    "walk_score_corr_series = top_factors_corr['csa walk score']\n",
    "\n",
    "walk_score_corr_df = walk_score_corr_series.reset_index()\n",
    "\n",
    "walk_score_corr_df.columns = ['Factor Name', 'Correlation Coefficient']\n",
    "\n",
    "final_correlations_to_export = walk_score_corr_df[walk_score_corr_df['Factor Name'] != 'csa walk score'].copy()\n",
    "\n",
    "export_filename = 'walk_score_correlations_for_pbi.csv'\n",
    "\n",
    "final_correlations_to_export.to_csv(export_filename, index=False)\n"
   ]
  },
  {
   "cell_type": "code",
   "execution_count": 106,
   "id": "1b7998ad-88ea-45b4-8911-03f33e922883",
   "metadata": {},
   "outputs": [],
   "source": [
    "finalbi = final.rename(columns={\n",
    "    'walked %': 'walked to work %',\n",
    "    'csa_avg_walk_score': 'csa walk score',\n",
    "    'poverty_rate %': 'poverty rate %',\n",
    "    'avg_dist_to_transit': 'avg distance to public transit',\n",
    "    'car_drove_to_work %': 'car drove to work %',\n",
    "    'median_home_value': 'median home value',\n",
    "    'csa_name': 'csa name',\n",
    "    'walkability_ranking': 'walkability ranking',\n",
    "    'pop_density_sq_mile': 'pop density per sq mile',\n",
    "    'worker_density_sq_mile': 'worker density per sq mile',\n",
    "    'median_rent': 'median rent',\n",
    "    'Accommodation and food services': 'accommodation and food services revenue',\n",
    "    'Arts, entertainment, and recreation': 'arts entertainment and recreation revenue',\n",
    "    'Other services (except public administration)': 'other services (except public administration) revenue'\n",
    "})\n"
   ]
  },
  {
   "cell_type": "code",
   "execution_count": 107,
   "id": "fbc56877-1450-4e7f-8711-1b4920005116",
   "metadata": {},
   "outputs": [],
   "source": [
    "finalbi.to_csv('everything.csv', index=False)"
   ]
  },
  {
   "cell_type": "code",
   "execution_count": 108,
   "id": "00d98f32-db34-4f38-92a4-84fac96598d2",
   "metadata": {},
   "outputs": [],
   "source": [
    "target_csas_mapping = {\n",
    "    \"Portland-Vancouver-Salem, OR-WA\": \"Top\",\n",
    "    \"Memphis-Forrest City, TN-MS-AR\": \"Bottom\",\n",
    "    \"Harrisburg-York-Lebanon, PA\": \"Top\",\n",
    "    \"Cape Coral-Fort Myers-Naples, FL\": \"Bottom\",\n",
    "    \"Pueblo-Cañon City, CO\": \"Top\",\n",
    "    \"Rockford-Freeport-Rochelle, IL\": \"Bottom\"\n",
    "}\n",
    "target_csa_names = list(target_csas_mapping.keys())"
   ]
  },
  {
   "cell_type": "code",
   "execution_count": 109,
   "id": "30d7fab4-1023-4f6c-a117-a4621fe23319",
   "metadata": {},
   "outputs": [],
   "source": [
    "df_spotlight = finalbi[finalbi['csa name'].isin(target_csa_names)].copy()"
   ]
  },
  {
   "cell_type": "code",
   "execution_count": 110,
   "id": "3c9df6d1-98fd-48cf-a859-a72c70732717",
   "metadata": {},
   "outputs": [],
   "source": [
    "df_spotlight['Rank Group'] = df_spotlight['csa name'].map(target_csas_mapping)"
   ]
  },
  {
   "cell_type": "code",
   "execution_count": 111,
   "id": "d399a9a6-645d-464f-b5cc-a090f2a9c981",
   "metadata": {},
   "outputs": [],
   "source": [
    "final_columns = ['csa name','csa_size','Rank Group','csa walk score','poverty rate %','median home value',\n",
    "    'walked to work %','avg distance to public transit',\"bachelor\\'s degree or higher %\"]\n",
    "df_spotlight_final = df_spotlight[final_columns]"
   ]
  },
  {
   "cell_type": "code",
   "execution_count": 112,
   "id": "6a14217e-8acc-40e0-8abf-430e9b1bc3e6",
   "metadata": {},
   "outputs": [],
   "source": [
    "df_spotlight_final.to_csv('spotlight_data_for_powerbi.csv', index=False)"
   ]
  },
  {
   "cell_type": "code",
   "execution_count": null,
   "id": "c550ec0b-d82e-41c1-854c-65b311d19a66",
   "metadata": {},
   "outputs": [],
   "source": []
  }
 ],
 "metadata": {
  "kernelspec": {
   "display_name": "Python [conda env:geospatial]",
   "language": "python",
   "name": "conda-env-geospatial-py"
  },
  "language_info": {
   "codemirror_mode": {
    "name": "ipython",
    "version": 3
   },
   "file_extension": ".py",
   "mimetype": "text/x-python",
   "name": "python",
   "nbconvert_exporter": "python",
   "pygments_lexer": "ipython3",
   "version": "3.10.16"
  }
 },
 "nbformat": 4,
 "nbformat_minor": 5
}
