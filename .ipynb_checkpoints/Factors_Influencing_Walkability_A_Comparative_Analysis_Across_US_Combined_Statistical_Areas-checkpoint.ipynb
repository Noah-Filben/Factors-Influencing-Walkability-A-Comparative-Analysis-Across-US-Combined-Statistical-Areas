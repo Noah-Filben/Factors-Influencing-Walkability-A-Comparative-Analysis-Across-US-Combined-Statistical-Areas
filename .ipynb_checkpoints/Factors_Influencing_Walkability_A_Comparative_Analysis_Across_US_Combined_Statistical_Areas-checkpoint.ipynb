{
 "cells": [
  {
   "cell_type": "code",
   "execution_count": 1,
   "id": "27307e4a-cc3e-4255-9a1f-dd30e84887ff",
   "metadata": {},
   "outputs": [],
   "source": [
    "import fiona\n",
    "import geopandas as gpd\n",
    "import pandas as pd\n",
    "import warnings\n",
    "import matplotlib.pyplot as plt\n",
    "import seaborn as sns\n",
    "import requests"
   ]
  },
  {
   "cell_type": "code",
   "execution_count": 2,
   "id": "ebf7925e-e7a9-4343-b6d4-8de3a49ef9fe",
   "metadata": {},
   "outputs": [],
   "source": [
    "pd.set_option('display.max_columns', None)  "
   ]
  },
  {
   "cell_type": "markdown",
   "id": "cc58c946-6775-442b-bf9a-30da08dcc1d5",
   "metadata": {},
   "source": [
    "# Data from 2021"
   ]
  },
  {
   "cell_type": "code",
   "execution_count": 4,
   "id": "1b057cdf-e45c-4a3e-b5f4-37de546af757",
   "metadata": {},
   "outputs": [],
   "source": [
    "gdf = gpd.read_file('../data/Natl_WI.gdb', layer='NationalWalkabilityIndex')"
   ]
  },
  {
   "cell_type": "code",
   "execution_count": 5,
   "id": "40d37277-c4bd-480a-9cc8-5ca9502956dc",
   "metadata": {},
   "outputs": [],
   "source": [
    "warnings.filterwarnings('ignore', message='A value is trying to be set on a copy of a slice from a DataFrame')"
   ]
  },
  {
   "cell_type": "markdown",
   "id": "d60a02c5-d21a-4566-a5c7-0557899ddf12",
   "metadata": {},
   "source": [
    "# Bringing in Data Profiles from Census"
   ]
  },
  {
   "cell_type": "code",
   "execution_count": 7,
   "id": "4bc643a4-d447-4f4d-9cab-fbb085913581",
   "metadata": {},
   "outputs": [],
   "source": [
    "dp02 = pd.read_csv('../data/dp02_final_real.csv')"
   ]
  },
  {
   "cell_type": "code",
   "execution_count": 8,
   "id": "8f4a4603-621e-49db-a193-d4f77efe9cda",
   "metadata": {},
   "outputs": [],
   "source": [
    "dp03 = pd.read_csv('../data/dp03_final_real.csv')"
   ]
  },
  {
   "cell_type": "code",
   "execution_count": 9,
   "id": "a09b37e0-b323-49a6-90ac-e9969187ba52",
   "metadata": {},
   "outputs": [],
   "source": [
    "dp04 = pd.read_csv('../data/dp04_final_real.csv')"
   ]
  },
  {
   "cell_type": "code",
   "execution_count": 10,
   "id": "0cade19f-0ef4-4fce-b636-8d92b3778243",
   "metadata": {},
   "outputs": [],
   "source": [
    "dp05 = pd.read_csv('../data/dp05_final.csv')"
   ]
  },
  {
   "cell_type": "code",
   "execution_count": 11,
   "id": "b94bc367-ab7b-4652-96a7-b8986f013917",
   "metadata": {},
   "outputs": [],
   "source": [
    "dp0203 = dp02.merge(dp03, on='csa_name', how='inner')"
   ]
  },
  {
   "cell_type": "code",
   "execution_count": 12,
   "id": "7ab083c6-1a5c-42eb-932a-867f006dbf67",
   "metadata": {},
   "outputs": [],
   "source": [
    "dp020304 = dp0203.merge(dp04, on='csa_name', how='inner')"
   ]
  },
  {
   "cell_type": "code",
   "execution_count": 13,
   "id": "13470635-14ec-452c-9527-a390eca1ebdf",
   "metadata": {},
   "outputs": [],
   "source": [
    "dps = dp020304.merge(dp05, on='csa_name', how='inner')"
   ]
  },
  {
   "cell_type": "code",
   "execution_count": 14,
   "id": "aa3ba93b-23d9-4b86-bf00-529f5eebfb5b",
   "metadata": {},
   "outputs": [],
   "source": [
    "dps = dps.rename(columns={'Median (dollars)':'Median_Home_Value', 'Median (dollars).1':'Median_Rent', 'Car, truck, or van -- drove alone %': 'Car_Drove_To_Work'})"
   ]
  },
  {
   "cell_type": "code",
   "execution_count": 15,
   "id": "99e3745a-f55f-4211-a8cb-4104b87c2563",
   "metadata": {},
   "outputs": [],
   "source": [
    "dps = dps.dropna(subset=['csa_name'])"
   ]
  },
  {
   "cell_type": "code",
   "execution_count": 16,
   "id": "bb7b5734-053f-4835-816d-953b473f1d35",
   "metadata": {},
   "outputs": [],
   "source": [
    "dps.columns = dps.columns.str.lower()"
   ]
  },
  {
   "cell_type": "markdown",
   "id": "bb7757ca-5045-4e18-a7e5-4ac7cc7aa62e",
   "metadata": {},
   "source": [
    "# NAICS data"
   ]
  },
  {
   "cell_type": "code",
   "execution_count": 18,
   "id": "708259dc-9844-4b7c-8a0d-e23b6e0fa032",
   "metadata": {},
   "outputs": [
    {
     "name": "stderr",
     "output_type": "stream",
     "text": [
      "C:\\Users\\noahf\\AppData\\Local\\Temp\\ipykernel_25816\\2716533220.py:1: DtypeWarning: Columns (0,1,2,3,4,5) have mixed types. Specify dtype option on import or set low_memory=False.\n",
      "  business = pd.read_csv('../data/businesses_final.csv')\n"
     ]
    }
   ],
   "source": [
    "business = pd.read_csv('../data/businesses_final.csv')"
   ]
  },
  {
   "cell_type": "code",
   "execution_count": 19,
   "id": "3f25241d-c2a7-4504-ae6f-a9cd395fccce",
   "metadata": {},
   "outputs": [],
   "source": [
    "business = business.dropna(subset=['Geographic Area Name'])"
   ]
  },
  {
   "cell_type": "code",
   "execution_count": 20,
   "id": "54f29327-ca4a-477c-a214-7525cb03c1cc",
   "metadata": {},
   "outputs": [],
   "source": [
    "csa_rename_map = {\n",
    "    'Asheville-Brevard, NC CSA': 'Asheville-Marion-Brevard, NC',\n",
    "    'Atlanta--Athens-Clarke County--Sandy Springs, GA CSA': 'Atlanta--Athens-Clarke County--Sandy Springs, GA-AL',\n",
    "    'Bend-Redmond-Prineville, OR CSA': 'Bend-Prineville, OR',\n",
    "    'Boise City-Mountain Home-Ontario, ID-OR CSA': 'Boise City-Mountain Home-Ontario, ID-OR',\n",
    "    'Boston-Worcester-Providence, MA-RI-NH-CT CSA': 'Boston-Worcester-Providence, MA-RI-NH-CT',\n",
    "    'Cape Coral-Fort Myers-Naples, FL CSA': 'Cape Coral-Fort Myers-Naples, FL',\n",
    "    'Cleveland-Akron-Canton, OH CSA': 'Cleveland-Akron-Canton, OH',\n",
    "    'Columbia-Orangeburg-Newberry, SC CSA': 'Columbia-Orangeburg-Newberry, SC',\n",
    "    'Dayton-Springfield-Sidney, OH CSA': 'Dayton-Springfield-Kettering, OH',\n",
    "    'Detroit-Warren-Ann Arbor, MI CSA': 'Detroit-Warren-Ann Arbor, MI',\n",
    "    'Fargo-Wahpeton, ND-MN CSA': 'Fargo-Wahpeton, ND-MN',\n",
    "    'Grand Rapids-Wyoming-Muskegon, MI CSA': 'Grand Rapids-Kentwood-Muskegon, MI',\n",
    "    'Harrisburg-York-Lebanon, PA CSA': 'Harrisburg-York-Lebanon, PA',\n",
    "    'Harrisonburg-Staunton-Waynesboro, VA CSA': 'Harrisonburg-Staunton, VA',\n",
    "    'Hartford-West Hartford, CT CSA': 'Hartford-East Hartford, CT',\n",
    "    'Jackson-Vicksburg-Brookhaven, MS CSA': 'Jackson-Vicksburg-Brookhaven, MS',\n",
    "    'Johnson City-Kingsport-Bristol, TN-VA CSA': 'Johnson City-Kingsport-Bristol, TN-VA',\n",
    "    'Lexington-Fayette--Richmond--Frankfort, KY CSA': 'Lexington-Fayette--Richmond--Frankfort, KY',\n",
    "    'Lincoln-Beatrice, NE CSA': 'Lincoln-Beatrice, NE',\n",
    "    'Memphis-Forrest City, TN-MS-AR CSA': 'Memphis-Forrest City, TN-MS-AR',\n",
    "    'Myrtle Beach-Conway, SC-NC CSA': 'Myrtle Beach-Conway, SC-NC',\n",
    "    'Philadelphia-Reading-Camden, PA-NJ-DE-MD CSA': 'Philadelphia-Reading-Camden, PA-NJ-DE-MD',\n",
    "    'Pittsburgh-New Castle-Weirton, PA-OH-WV CSA': 'Pittsburgh-New Castle-Weirton, PA-OH-WV',\n",
    "    'Portland-Vancouver-Salem, OR-WA CSA': 'Portland-Vancouver-Salem, OR-WA',\n",
    "    'Pueblo-Cañon City, CO CSA': 'Pueblo-Cañon City, CO',\n",
    "    'Rochester-Austin, MN CSA': 'Rochester-Austin, MN',\n",
    "    'Rockford-Freeport-Rochelle, IL CSA': 'Rockford-Freeport-Rochelle, IL',\n",
    "    'San Jose-San Francisco-Oakland, CA CSA': 'San Jose-San Francisco-Oakland, CA',\n",
    "    \"Spokane-Spokane Valley-Coeur d'Alene, WA-ID CSA\": \"Spokane-Spokane Valley-Coeur d'Alene, WA-ID\"\n",
    "}"
   ]
  },
  {
   "cell_type": "code",
   "execution_count": 21,
   "id": "56c12dce-0594-4713-851d-5cf1d2ff3a01",
   "metadata": {},
   "outputs": [],
   "source": [
    "business[\"Geographic Area Name\"] = business[\"Geographic Area Name\"].replace(csa_rename_map)"
   ]
  },
  {
   "cell_type": "code",
   "execution_count": 22,
   "id": "4244abd9-c658-4dee-8c4d-68de8ddac800",
   "metadata": {},
   "outputs": [],
   "source": [
    "business = business.rename(columns={'Geographic Area Name':'csa_name'})"
   ]
  },
  {
   "cell_type": "code",
   "execution_count": 23,
   "id": "157aa8e5-8a55-4580-ba15-76091e994ca9",
   "metadata": {},
   "outputs": [],
   "source": [
    "business[\"Number of establishments\"] = pd.to_numeric(\n",
    "    business[\"Number of establishments\"].str.replace(\",\", \"\"), errors=\"coerce\"\n",
    ")\n",
    "\n",
    "business[\"Sales, value of shipments, or revenue ($1,000)\"] = pd.to_numeric(\n",
    "    business[\"Sales, value of shipments, or revenue ($1,000)\"].str.replace(\",\", \"\"), errors=\"coerce\"\n",
    ")"
   ]
  },
  {
   "cell_type": "code",
   "execution_count": 24,
   "id": "bcd0ea04-1048-46cf-bc85-1f12a9dad60a",
   "metadata": {},
   "outputs": [],
   "source": [
    "group_business = business.groupby(\n",
    "    [\"csa_name\", \"2017 NAICS code\", \"Meaning of NAICS code\"], \n",
    "    as_index=False\n",
    ").agg({\n",
    "    \"Number of establishments\": \"sum\",\n",
    "    \"Sales, value of shipments, or revenue ($1,000)\": \"sum\"\n",
    "})"
   ]
  },
  {
   "cell_type": "code",
   "execution_count": 25,
   "id": "c34b682c-07d3-4891-b221-728b01e42637",
   "metadata": {},
   "outputs": [],
   "source": [
    "group_business = group_business.rename(columns={'Number of establishments':'num_establishments', 'Sales, value of shipments, or revenue ($1,000)':'revenue',\n",
    "                              'Meaning of NAICS code':'sector'})"
   ]
  },
  {
   "cell_type": "code",
   "execution_count": 26,
   "id": "a42a1922-5b8b-4394-b5dd-37fb80dfa701",
   "metadata": {},
   "outputs": [],
   "source": [
    "group_business = group_business[['csa_name', 'sector', 'num_establishments','revenue']]"
   ]
  },
  {
   "cell_type": "code",
   "execution_count": 27,
   "id": "ed632e80-15d0-40ae-84ed-3e529f8facea",
   "metadata": {},
   "outputs": [],
   "source": [
    "group_business[\"revenue_in_dollars\"] = group_business[\"revenue\"] * 1000"
   ]
  },
  {
   "cell_type": "code",
   "execution_count": 28,
   "id": "ae622ddb-806c-457f-9a74-eaff8afac08f",
   "metadata": {},
   "outputs": [],
   "source": [
    "group_business[\"revenue_per_establishment\"] = (\n",
    "    group_business[\"revenue_in_dollars\"] / \n",
    "    group_business[\"num_establishments\"]\n",
    ")"
   ]
  },
  {
   "cell_type": "code",
   "execution_count": 29,
   "id": "7be4653b-fbe5-4bbf-82d6-f0d3034c9f9c",
   "metadata": {},
   "outputs": [],
   "source": [
    "group_business[\"revenue_per_establishment\"] = group_business[\"revenue_per_establishment\"].round(2)\n",
    "pd.options.display.float_format = '{:,.2f}'.format"
   ]
  },
  {
   "cell_type": "code",
   "execution_count": 30,
   "id": "527dae14-d953-4128-b51d-e7697b6d5776",
   "metadata": {},
   "outputs": [],
   "source": [
    "#Fully cleaned post aggregation. revenue_per_establishment is made by taking revenue multiplying by 1000\n",
    "#And then dividing that number by the number of businesses in that sector\n",
    "group_business = group_business[['csa_name', 'sector', 'revenue_per_establishment']]"
   ]
  },
  {
   "cell_type": "markdown",
   "id": "fc62e224-ec92-40be-869d-bc7cb89c15ed",
   "metadata": {},
   "source": [
    "# Cleaning walkability data"
   ]
  },
  {
   "cell_type": "code",
   "execution_count": 32,
   "id": "853ac257-1cda-4000-af8b-02c870e3363a",
   "metadata": {},
   "outputs": [],
   "source": [
    "gdf.columns = gdf.columns.str.lower()"
   ]
  },
  {
   "cell_type": "code",
   "execution_count": 33,
   "id": "57f9f91e-c1a0-47d3-90b5-c945a845257c",
   "metadata": {},
   "outputs": [],
   "source": [
    "gdf = gdf.rename(columns = {'geoid20': 'cbg_fips', 'statefp':'state_fips', 'countyfp':'county_fips', \n",
    "                      'ac_land': 'total_land_acres', 'ac_unpr': 'unprotected_land_acres', \n",
    "                      'd4a':'distance_from_transit_stop', 'natwalkind':'walk_score'})"
   ]
  },
  {
   "cell_type": "code",
   "execution_count": 34,
   "id": "9b6bfc22-448e-4531-a5c5-97424712c735",
   "metadata": {},
   "outputs": [],
   "source": [
    "#noticed there's -99999 for distance to transit. These are placeholder values for no data available.. getting rid of them to perform avgs\n",
    "gdf = gdf[gdf['distance_from_transit_stop'] != -99999.00]"
   ]
  },
  {
   "cell_type": "markdown",
   "id": "c3c13356-7835-4905-850d-daa986820583",
   "metadata": {},
   "source": [
    "### Adding: cbsa_total_pop, cbsa_avg_walk_score, cbsa_pop_density, avg_dist_to_transit, avg_worker_density"
   ]
  },
  {
   "cell_type": "code",
   "execution_count": 36,
   "id": "c6da3926-3904-4569-bb4c-b6c53476e2fa",
   "metadata": {},
   "outputs": [],
   "source": [
    "#Calculating total population of each CBSA\n",
    "#Found .transform that allows for aggregation to be indexed\n",
    "gdf['csa_pop'] = gdf.groupby('csa')['totpop'].transform('sum')"
   ]
  },
  {
   "cell_type": "code",
   "execution_count": 37,
   "id": "1a6ad927-c44e-4f4a-a623-3943de7fe43d",
   "metadata": {},
   "outputs": [],
   "source": [
    "#Calculating avg_walk_score for each cbsa\n",
    "gdf['csa_avg_walk_score'] = gdf.groupby('csa')['walk_score'].transform('mean')"
   ]
  },
  {
   "cell_type": "code",
   "execution_count": 38,
   "id": "c62655db-b2f4-4fd7-89ca-d63b434381d0",
   "metadata": {},
   "outputs": [],
   "source": [
    "#Calculting avg distance to transit for each cbsa\n",
    "gdf['avg_dist_to_transit'] = gdf.groupby('csa')['distance_from_transit_stop'].transform('mean')"
   ]
  },
  {
   "cell_type": "code",
   "execution_count": 39,
   "id": "67664f24-1643-4698-9e5c-ef23686f70db",
   "metadata": {},
   "outputs": [],
   "source": [
    "#Calculating total land acres for each cbsa\n",
    "gdf['csa_total_land_acres'] = gdf.groupby('csa')['total_land_acres'].transform('sum')"
   ]
  },
  {
   "cell_type": "code",
   "execution_count": 40,
   "id": "0eec8db5-69dc-4fb9-aa2b-ac81f8c4487b",
   "metadata": {},
   "outputs": [],
   "source": [
    "#Calculating total workers for each cbsa\n",
    "gdf['csa_total_workers'] = gdf.groupby('csa')['workers'].transform('sum')"
   ]
  },
  {
   "cell_type": "code",
   "execution_count": 41,
   "id": "8dd2d254-dbd2-4aed-8e62-04aa1efc545e",
   "metadata": {},
   "outputs": [],
   "source": [
    "#Calculating Population density. Converting acres to sq mile to make more of a compelling measurement\n",
    "gdf['pop_density_sq_mile'] = gdf['csa_pop'] / (gdf['csa_total_land_acres'] / 640)"
   ]
  },
  {
   "cell_type": "code",
   "execution_count": 42,
   "id": "e9ef782d-ec8f-455d-bf20-defd8799ad9b",
   "metadata": {},
   "outputs": [],
   "source": [
    "#Calculating Worker density. Also by Sq Mile\n",
    "gdf['worker_density_sq_mile'] = gdf['csa_total_workers'] / (gdf['csa_total_land_acres'] / 640)"
   ]
  },
  {
   "cell_type": "code",
   "execution_count": 43,
   "id": "758fb2e6-11f0-404d-ad1e-ea8893301f1d",
   "metadata": {},
   "outputs": [],
   "source": [
    "# Interested in seeing the distribution with small, medium, and large cities \n",
    "# Originally Calculated using 25th percentile, median, and 75th percentile\n",
    "# That resulted in only getting 3 for nlargest for 'Large' cities so I tweaked it to catch more\n",
    "def classify_csa_size(pop):\n",
    "    if pop < 175000:\n",
    "        return \"Small\"\n",
    "    elif pop <= 500000:\n",
    "        return \"Medium\"\n",
    "    else:\n",
    "        return \"Large\"\n",
    "\n",
    "gdf[\"csa_size\"] = gdf[\"csa_pop\"].apply(classify_csa_size)"
   ]
  },
  {
   "cell_type": "code",
   "execution_count": 44,
   "id": "7a3a4e28-c544-4338-af35-88068c398940",
   "metadata": {},
   "outputs": [],
   "source": [
    "walkability = gdf[['cbg_fips', 'state_fips', 'county_fips', 'blkgrpce', 'csa',\n",
    "       'csa_name', 'csa_avg_walk_score', 'csa_pop','csa_size', 'csa_total_land_acres', 'csa_total_workers', 'worker_density_sq_mile', \n",
    "       'pop_density_sq_mile', 'total_land_acres', 'unprotected_land_acres', 'totpop',\n",
    "       'counthu', 'hh', 'workers', 'd3b', 'distance_from_transit_stop', 'avg_dist_to_transit', 'walk_score', 'geometry']]"
   ]
  },
  {
   "cell_type": "code",
   "execution_count": 45,
   "id": "ee7d0d4b-eb84-4eb4-a528-3a009bdc7961",
   "metadata": {},
   "outputs": [],
   "source": [
    "walkability = gdf[['csa_name', 'csa_avg_walk_score', 'csa_size', 'pop_density_sq_mile', 'worker_density_sq_mile', 'avg_dist_to_transit', 'geometry']]"
   ]
  },
  {
   "cell_type": "code",
   "execution_count": 46,
   "id": "ab334ea6-fc4b-46bf-af67-5dc83b2f8d83",
   "metadata": {},
   "outputs": [],
   "source": [
    "unique_csa = walkability.drop_duplicates('csa_name')"
   ]
  },
  {
   "cell_type": "code",
   "execution_count": 47,
   "id": "932253be-3243-4491-91bd-e7b608487a8b",
   "metadata": {},
   "outputs": [
    {
     "data": {
      "text/plain": [
       "csa_size\n",
       "Large     44\n",
       "Small     35\n",
       "Medium    31\n",
       "Name: count, dtype: int64"
      ]
     },
     "execution_count": 47,
     "metadata": {},
     "output_type": "execute_result"
    }
   ],
   "source": [
    "#Probably show a breakdown of this in tableau or power bi to support \n",
    "unique_csa['csa_size'].value_counts()"
   ]
  },
  {
   "cell_type": "code",
   "execution_count": 48,
   "id": "2294cb3b-17c3-4ecc-87c0-430a2bd721b8",
   "metadata": {},
   "outputs": [],
   "source": [
    "the30 = unique_csa[unique_csa['csa_name'].isin(['Rockford-Freeport-Rochelle, IL','Jackson-Vicksburg-Brookhaven, MS', 'Johnson City-Kingsport-Bristol, TN-VA',\n",
    "                                        'Myrtle Beach-Conway, SC-NC', 'Rochester-Austin, MN', 'Cape Coral-Fort Myers-Naples, FL', 'Lexington-Fayette--Richmond--Frankfort, KY',\n",
    "                                        'Grand Rapids-Kentwood-Muskegon, MI', 'Columbia-Orangeburg-Newberry, SC', 'Dayton-Springfield-Kettering, OH', 'Memphis-Forrest City, TN-MS-AR',\n",
    "                                        'Detroit-Warren-Ann Arbor, MI', 'Atlanta--Athens-Clarke County--Sandy Springs, GA-AL', 'Hartford-East Hartford, CT', 'Cleveland-Akron-Canton, OH',\n",
    "                                        'Pueblo-Cañon City, CO', 'Bend-Prineville, OR', 'Harrisonburg-Staunton, VA', 'Asheville-Marion-Brevard, NC', 'Burlington-Fort Madison-Keokuk, IA-IL-MO',\n",
    "                                        'Harrisburg-York-Lebanon, PA', 'Boise City-Mountain Home-Ontario, ID-OR', 'Lincoln-Beatrice, NE', \"Spokane-Spokane Valley-Coeur d'Alene, WA-ID\",\n",
    "                                        'Fargo-Wahpeton, ND-MN', 'Portland-Vancouver-Salem, OR-WA', 'Boston-Worcester-Providence, MA-RI-NH-CT', 'Pittsburgh-New Castle-Weirton, PA-OH-WV',\n",
    "                                        'San Jose-San Francisco-Oakland, CA', 'Philadelphia-Reading-Camden, PA-NJ-DE-MD'])].reset_index(drop=True)"
   ]
  },
  {
   "cell_type": "markdown",
   "id": "536aa512-f32b-4e2d-bc59-d7a6af9a7063",
   "metadata": {},
   "source": [
    "# Merging all data"
   ]
  },
  {
   "cell_type": "code",
   "execution_count": 50,
   "id": "ee738e38-bfda-4d62-a018-e3902b0db09f",
   "metadata": {},
   "outputs": [],
   "source": [
    "master = the30.merge(dps, on='csa_name', how='inner')"
   ]
  },
  {
   "cell_type": "code",
   "execution_count": 51,
   "id": "9ff25aa6-6de9-4a54-b73b-d68d35d2111b",
   "metadata": {},
   "outputs": [],
   "source": [
    "#Pivoting group_business so final data frame will be 30 rows corresponding to only 1 instance of each city\n",
    "naics_pivot = group_business[['csa_name', 'sector', 'revenue_per_establishment']].copy()\n",
    "\n",
    "pivoted_naics = naics_pivot.pivot_table(\n",
    "    index='csa_name',\n",
    "    columns='sector',\n",
    "    values='revenue_per_establishment'\n",
    ")\n",
    "\n",
    "pivoted_naics = pivoted_naics.reset_index()\n",
    "\n",
    "pivoted_naics.columns.name = None\n",
    "\n",
    "final_merged_df = pd.merge(\n",
    "    master,\n",
    "    pivoted_naics,\n",
    "    on='csa_name',\n",
    "    how='left'\n",
    ")"
   ]
  },
  {
   "cell_type": "code",
   "execution_count": 52,
   "id": "bd30e0d0-1c30-46ba-8d3c-879cfd41f785",
   "metadata": {},
   "outputs": [],
   "source": [
    "final_merged_df.columns = final_merged_df.columns.str.strip()"
   ]
  },
  {
   "cell_type": "code",
   "execution_count": 53,
   "id": "4c8f5474-144c-4211-b502-1969a0c71ef0",
   "metadata": {},
   "outputs": [],
   "source": [
    "columns_to_convert = [\"bachelor's degree or higher\", 'unemployment rate %', 'car_drove_to_work', 'public transportation  %',\n",
    "'walked %', 'all people %', 'no vehicles available', '1 vehicle available', '2 vehicles available', '3 or more vehicles available']"
   ]
  },
  {
   "cell_type": "code",
   "execution_count": 54,
   "id": "cc080ac7-0bb5-49d7-8b6e-a010db3df3d7",
   "metadata": {},
   "outputs": [],
   "source": [
    "for col in columns_to_convert:\n",
    "    \n",
    "    if final_merged_df[col].dtype == 'object':\n",
    "        \n",
    "        final_merged_df[col] = pd.to_numeric(final_merged_df[col].str.rstrip('%'), errors='coerce')"
   ]
  },
  {
   "cell_type": "code",
   "execution_count": 55,
   "id": "ec2fec4f-df77-479f-8e16-3e9c292f62f4",
   "metadata": {},
   "outputs": [],
   "source": [
    "final_merged_df = final_merged_df.rename(columns={\n",
    "    \"bachelor's degree or higher\": \"bachelor's degree or higher %\", \n",
    "    'car_drove_to_work': 'car_drove_to_work %', \n",
    "    'no vehicles available': 'no vehicles available %', \n",
    "    'public transportation  %': 'public transportation %', \n",
    "    '1 vehicle available': '1 vehicle available %',\n",
    "    '2 vehicles available': '2 vehicles available %', \n",
    "    '3 or more vehicles available': '3 or more vehicles available %',\n",
    "    'all people %': 'poverty_rate %',\n",
    "    'accommodation and food services': 'accommodation and food services revenue per establishment', \n",
    "    'arts, entertainment, and recreation': 'arts, entertainment, and recreation revenue per establishment',\n",
    "    'other services (except public administration)': 'local services revenue per establishment', \n",
    "    'retail trade': 'retail trade revenue per establishment'})"
   ]
  },
  {
   "cell_type": "markdown",
   "id": "eefb4fe9-3689-4db6-abb7-f98f40663938",
   "metadata": {},
   "source": [
    "### Top 5 Least Walkable Cities (Small -> Medium -> Large)"
   ]
  },
  {
   "cell_type": "code",
   "execution_count": 57,
   "id": "9cb25e87-cec6-4db7-a28e-a2aff8fb5787",
   "metadata": {},
   "outputs": [],
   "source": [
    "Bottom_5_Small = final_merged_df[final_merged_df['csa_size'] == 'Small'].nsmallest(5, 'csa_avg_walk_score').reset_index(drop=True)"
   ]
  },
  {
   "cell_type": "code",
   "execution_count": 58,
   "id": "5f6bda92-eca7-44d7-823f-ca602901b3a6",
   "metadata": {},
   "outputs": [],
   "source": [
    "Bottom_5_Medium = final_merged_df[final_merged_df['csa_size'] == 'Medium'].nsmallest(5, 'csa_avg_walk_score').reset_index(drop=True)"
   ]
  },
  {
   "cell_type": "code",
   "execution_count": 59,
   "id": "1096dbde-2c24-4bca-af7f-2c1a60cc3163",
   "metadata": {},
   "outputs": [],
   "source": [
    "Bottom_5_Large = final_merged_df[final_merged_df['csa_size'] == 'Large'].nsmallest(5, 'csa_avg_walk_score').reset_index(drop=True)"
   ]
  },
  {
   "cell_type": "markdown",
   "id": "324c3718-966e-4a57-9e18-92a5e89cf5e8",
   "metadata": {},
   "source": [
    "### Top 5 Most Walkable Cities (Small -> Medium -> Large)"
   ]
  },
  {
   "cell_type": "code",
   "execution_count": 61,
   "id": "10a32a22-f1a6-4ac3-aa01-faef7bace7c6",
   "metadata": {},
   "outputs": [],
   "source": [
    "Top_5_Small = final_merged_df[final_merged_df['csa_size'] == 'Small'].nlargest(5, 'csa_avg_walk_score').reset_index(drop=True)"
   ]
  },
  {
   "cell_type": "code",
   "execution_count": 62,
   "id": "41cc10de-8bff-470d-8787-57eb7c31d6f3",
   "metadata": {},
   "outputs": [],
   "source": [
    "Top_5_Medium = final_merged_df[final_merged_df['csa_size'] == 'Medium'].nlargest(5, 'csa_avg_walk_score').reset_index(drop=True)"
   ]
  },
  {
   "cell_type": "code",
   "execution_count": 63,
   "id": "57cbb319-735a-4922-ac78-10aafbec7427",
   "metadata": {},
   "outputs": [],
   "source": [
    "Top_5_Large = final_merged_df[final_merged_df['csa_size'] == 'Large'].nlargest(5, 'csa_avg_walk_score').reset_index(drop=True)"
   ]
  },
  {
   "cell_type": "code",
   "execution_count": 64,
   "id": "6a49d970-a05b-465e-baff-4190474334d2",
   "metadata": {},
   "outputs": [],
   "source": [
    "Top_5_Large['walkability_ranking'] = 'Top'\n",
    "Top_5_Medium['walkability_ranking'] = 'Top'\n",
    "Top_5_Small['walkability_ranking'] = 'Top'\n",
    "Bottom_5_Large['walkability_ranking'] = 'Bottom'\n",
    "Bottom_5_Medium['walkability_ranking'] = 'Bottom'\n",
    "Bottom_5_Small['walkability_ranking'] = 'Bottom'"
   ]
  },
  {
   "cell_type": "code",
   "execution_count": 65,
   "id": "74c65fb7-11dc-4977-83ca-7e7fc2041595",
   "metadata": {},
   "outputs": [],
   "source": [
    "all_dfs = [Top_5_Large, Top_5_Medium, Top_5_Small, Bottom_5_Large, Bottom_5_Medium, Bottom_5_Small]\n",
    "final = pd.concat(all_dfs, ignore_index=True)"
   ]
  },
  {
   "cell_type": "code",
   "execution_count": 66,
   "id": "2cea3828-088b-464d-883e-7feeb8057a38",
   "metadata": {},
   "outputs": [],
   "source": [
    "final = final.rename(columns={\n",
    "    \"bachelor's degree or higher\": \"bachelor's degree or higher %\", \n",
    "    'car_drove_to_work': 'car_drove_to_work %', \n",
    "    'no vehicles available': 'no vehicles available %', \n",
    "    'public transportation  %': 'public transportation %', \n",
    "    '1 vehicle available': '1 vehicle available %',\n",
    "    '2 vehicles available': '2 vehicles available %', \n",
    "    '3 or more vehicles available': '3 or more vehicles available %',\n",
    "    'all people %': 'poverty_rate %',\n",
    "    'accommodation and food services': 'accommodation and food services revenue per establishment', \n",
    "    'arts, entertainment, and recreation': 'arts, entertainment, and recreation revenue per establishment',\n",
    "    'other services (except public administration)': 'local services revenue per establishment', \n",
    "    'Retail trade': 'retail trade revenue per establishment'})"
   ]
  },
  {
   "cell_type": "code",
   "execution_count": 67,
   "id": "9009db80-b1ee-4630-a879-3d6d61d68c39",
   "metadata": {},
   "outputs": [
    {
     "data": {
      "text/plain": [
       "Index(['csa_name', 'csa_avg_walk_score', 'csa_size', 'pop_density_sq_mile',\n",
       "       'worker_density_sq_mile', 'avg_dist_to_transit', 'geometry',\n",
       "       'bachelor's degree or higher %', 'unemployment rate %',\n",
       "       'car_drove_to_work %', 'public transportation %', 'walked %',\n",
       "       'poverty_rate %', 'mean travel time to work (minutes)',\n",
       "       'median household income (dollars)', 'no vehicles available %',\n",
       "       '1 vehicle available %', '2 vehicles available %',\n",
       "       '3 or more vehicles available %', 'median_home_value', 'median_rent',\n",
       "       'median age (years)', 'Accommodation and food services',\n",
       "       'Arts, entertainment, and recreation',\n",
       "       'Other services (except public administration)',\n",
       "       'retail trade revenue per establishment', 'walkability_ranking'],\n",
       "      dtype='object')"
      ]
     },
     "execution_count": 67,
     "metadata": {},
     "output_type": "execute_result"
    }
   ],
   "source": [
    "final.columns"
   ]
  },
  {
   "cell_type": "code",
   "execution_count": 68,
   "id": "3d3b89d4-2bb9-4323-8daf-c5626b5e3f1b",
   "metadata": {},
   "outputs": [],
   "source": [
    "final = final[['csa_name','csa_size', 'csa_avg_walk_score', 'walkability_ranking', 'pop_density_sq_mile',\n",
    "       'worker_density_sq_mile', 'avg_dist_to_transit', 'geometry',\n",
    "       \"bachelor's degree or higher %\", 'unemployment rate %',\n",
    "       'car_drove_to_work %', 'public transportation %', 'walked %',\n",
    "       'poverty_rate %', 'mean travel time to work (minutes)',\n",
    "       'median household income (dollars)', 'no vehicles available %',\n",
    "       '1 vehicle available %', '2 vehicles available %',\n",
    "       '3 or more vehicles available %', 'median_home_value', 'median_rent',\n",
    "       'median age (years)', 'Accommodation and food services',\n",
    "       'Arts, entertainment, and recreation',\n",
    "       'Other services (except public administration)',\n",
    "       'retail trade revenue per establishment']]"
   ]
  },
  {
   "cell_type": "markdown",
   "id": "b1f3653b-4d17-4720-b0ec-60ba3d89caf0",
   "metadata": {},
   "source": [
    "# Running correlations to see what relationships exist between walkability and all of the other data"
   ]
  },
  {
   "cell_type": "code",
   "execution_count": 70,
   "id": "7d5a44f8-60a4-4105-be1f-32ee3f9d019c",
   "metadata": {},
   "outputs": [],
   "source": [
    "numerical_df = final.select_dtypes(include=['number'])"
   ]
  },
  {
   "cell_type": "code",
   "execution_count": 71,
   "id": "8e887cc2-d0e3-4a91-b268-beb47d695dc4",
   "metadata": {},
   "outputs": [],
   "source": [
    "correlation_matrix = numerical_df.corr()"
   ]
  },
  {
   "cell_type": "code",
   "execution_count": 72,
   "id": "fbf5fdc4-5624-42bb-bad2-df90cdf0362b",
   "metadata": {},
   "outputs": [],
   "source": [
    "walk_score_correlations = correlation_matrix['csa_avg_walk_score'].sort_values(ascending=False)"
   ]
  },
  {
   "cell_type": "code",
   "execution_count": 73,
   "id": "80112632-28dd-4a54-bbc5-6b9441a23b90",
   "metadata": {},
   "outputs": [
    {
     "data": {
      "text/plain": [
       "csa_avg_walk_score                               1.00\n",
       "walked %                                         0.45\n",
       "median_home_value                                0.39\n",
       "3 or more vehicles available %                   0.34\n",
       "bachelor's degree or higher %                    0.29\n",
       "median household income (dollars)                0.29\n",
       "median_rent                                      0.28\n",
       "public transportation %                          0.26\n",
       "worker_density_sq_mile                           0.25\n",
       "retail trade revenue per establishment           0.22\n",
       "pop_density_sq_mile                              0.18\n",
       "Arts, entertainment, and recreation              0.13\n",
       "no vehicles available %                          0.03\n",
       "Other services (except public administration)   -0.04\n",
       "mean travel time to work (minutes)              -0.05\n",
       "median age (years)                              -0.08\n",
       "2 vehicles available %                          -0.11\n",
       "Accommodation and food services                 -0.11\n",
       "1 vehicle available %                           -0.35\n",
       "car_drove_to_work %                             -0.40\n",
       "poverty_rate %                                  -0.45\n",
       "avg_dist_to_transit                             -0.49\n",
       "unemployment rate %                             -0.50\n",
       "Name: csa_avg_walk_score, dtype: float64"
      ]
     },
     "execution_count": 73,
     "metadata": {},
     "output_type": "execute_result"
    }
   ],
   "source": [
    "walk_score_correlations"
   ]
  },
  {
   "cell_type": "code",
   "execution_count": null,
   "id": "e3a1eecc-e90f-4288-b14e-8600f7f4dc3c",
   "metadata": {},
   "outputs": [],
   "source": []
  },
  {
   "cell_type": "markdown",
   "id": "fa8bed4c-0b19-427a-a1c3-1cc68bd8af22",
   "metadata": {},
   "source": [
    "# QUESTION 1"
   ]
  },
  {
   "cell_type": "markdown",
   "id": "1784a4f1-b2c2-4e58-813d-fd294726a9d3",
   "metadata": {},
   "source": [
    "# Which demographic, socioeconomic (e.g., income, poverty, education), and built environment factors (e.g., density, transit proximity) correlate with higher walkability scores at the CSA level?"
   ]
  },
  {
   "cell_type": "code",
   "execution_count": null,
   "id": "b7a1c5c5-ec30-4603-96ad-ce28fb08d15c",
   "metadata": {},
   "outputs": [],
   "source": [
    " "
   ]
  },
  {
   "cell_type": "code",
   "execution_count": null,
   "id": "cc22c0fb-8926-4b33-a498-c935b9ce0e9d",
   "metadata": {},
   "outputs": [],
   "source": []
  },
  {
   "cell_type": "code",
   "execution_count": null,
   "id": "499f560f-e5d2-4f90-a4b2-30dfe56326df",
   "metadata": {},
   "outputs": [],
   "source": []
  },
  {
   "cell_type": "code",
   "execution_count": null,
   "id": "f95e5d9e-5315-4325-88dc-bc6bddf85ed8",
   "metadata": {},
   "outputs": [],
   "source": []
  }
 ],
 "metadata": {
  "kernelspec": {
   "display_name": "Python [conda env:geospatial]",
   "language": "python",
   "name": "conda-env-geospatial-py"
  },
  "language_info": {
   "codemirror_mode": {
    "name": "ipython",
    "version": 3
   },
   "file_extension": ".py",
   "mimetype": "text/x-python",
   "name": "python",
   "nbconvert_exporter": "python",
   "pygments_lexer": "ipython3",
   "version": "3.10.16"
  }
 },
 "nbformat": 4,
 "nbformat_minor": 5
}
